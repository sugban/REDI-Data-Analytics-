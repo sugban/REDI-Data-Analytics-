{
  "nbformat": 4,
  "nbformat_minor": 0,
  "metadata": {
    "kernelspec": {
      "display_name": "Python 3",
      "language": "python",
      "name": "python3"
    },
    "language_info": {
      "codemirror_mode": {
        "name": "ipython",
        "version": 3
      },
      "file_extension": ".py",
      "mimetype": "text/x-python",
      "name": "python",
      "nbconvert_exporter": "python",
      "pygments_lexer": "ipython3",
      "version": "3.8.8"
    },
    "colab": {
      "name": "homework_lesson_3.ipynb",
      "provenance": []
    }
  },
  "cells": [
    {
      "cell_type": "markdown",
      "metadata": {
        "id": "Q8wVZAaF4IJV"
      },
      "source": [
        "# Lesson 3 - Homework - Pandas and Numpy"
      ]
    },
    {
      "cell_type": "markdown",
      "metadata": {
        "id": "oR6khkCf4IJc"
      },
      "source": [
        "### Hi again! :)\n",
        "\n",
        "#### For today's homework, you will further explore the dataset recipe.csv. So start with importing the two key libraries: NumPy and pandas and loading the .csv file. Use the first column as index."
      ]
    },
    {
      "cell_type": "code",
      "metadata": {
        "id": "4xhM9lfY4IJd"
      },
      "source": [
        "import numpy as np\n",
        "import pandas as pd"
      ],
      "execution_count": 1,
      "outputs": []
    },
    {
      "cell_type": "code",
      "metadata": {
        "colab": {
          "base_uri": "https://localhost:8080/",
          "height": 319
        },
        "id": "bbyq1-Pu4IJe",
        "outputId": "b8844384-3821-47d9-ff64-d86507cab15b"
      },
      "source": [
        "df=pd.read_csv('data/Recipes.csv',index_col=0)\n",
        "df[:3]"
      ],
      "execution_count": 9,
      "outputs": [
        {
          "output_type": "execute_result",
          "data": {
            "text/html": [
              "<div>\n",
              "<style scoped>\n",
              "    .dataframe tbody tr th:only-of-type {\n",
              "        vertical-align: middle;\n",
              "    }\n",
              "\n",
              "    .dataframe tbody tr th {\n",
              "        vertical-align: top;\n",
              "    }\n",
              "\n",
              "    .dataframe thead th {\n",
              "        text-align: right;\n",
              "    }\n",
              "</style>\n",
              "<table border=\"1\" class=\"dataframe\">\n",
              "  <thead>\n",
              "    <tr style=\"text-align: right;\">\n",
              "      <th></th>\n",
              "      <th>vegetarian</th>\n",
              "      <th>glutenFree</th>\n",
              "      <th>dairyFree</th>\n",
              "      <th>veryHealthy</th>\n",
              "      <th>healthScore</th>\n",
              "      <th>aggregateLikes</th>\n",
              "      <th>id</th>\n",
              "      <th>title</th>\n",
              "      <th>pricePerServing</th>\n",
              "      <th>readyInMinutes</th>\n",
              "      <th>servings</th>\n",
              "      <th>sourceUrl</th>\n",
              "      <th>CaloriesAmount</th>\n",
              "      <th>CaloriespercentOfDailyNeed</th>\n",
              "      <th>FatAmount</th>\n",
              "      <th>FatpercentOfDailyNeed</th>\n",
              "      <th>SaturatedFatAmount</th>\n",
              "      <th>SaturatedFatpercentOfDailyNeed</th>\n",
              "      <th>CarbohydratesAmount</th>\n",
              "      <th>CarbohydratespercentOfDailyNeed</th>\n",
              "      <th>NetCarbohydratesAmount</th>\n",
              "      <th>NetCarbohydratespercentOfDailyNeed</th>\n",
              "      <th>SugarAmount</th>\n",
              "      <th>SugarpercentOfDailyNeed</th>\n",
              "      <th>CholesterolAmount</th>\n",
              "      <th>CholesterolpercentOfDailyNeed</th>\n",
              "      <th>SodiumAmount</th>\n",
              "      <th>SodiumpercentOfDailyNeed</th>\n",
              "      <th>ProteinAmount</th>\n",
              "      <th>ProteinpercentOfDailyNeed</th>\n",
              "      <th>FiberAmount</th>\n",
              "      <th>FiberpercentOfDailyNeed</th>\n",
              "      <th>VitaminB6Amount</th>\n",
              "      <th>VitaminB6percentOfDailyNeed</th>\n",
              "      <th>ManganeseAmount</th>\n",
              "      <th>ManganesepercentOfDailyNeed</th>\n",
              "      <th>SeleniumAmount</th>\n",
              "      <th>SeleniumpercentOfDailyNeed</th>\n",
              "      <th>PotassiumAmount</th>\n",
              "      <th>PotassiumpercentOfDailyNeed</th>\n",
              "      <th>VitaminB2Amount</th>\n",
              "      <th>VitaminB2percentOfDailyNeed</th>\n",
              "      <th>VitaminCAmount</th>\n",
              "      <th>VitaminCpercentOfDailyNeed</th>\n",
              "      <th>PhosphorusAmount</th>\n",
              "      <th>PhosphoruspercentOfDailyNeed</th>\n",
              "      <th>FolateAmount</th>\n",
              "      <th>FolatepercentOfDailyNeed</th>\n",
              "      <th>VitaminB5Amount</th>\n",
              "      <th>VitaminB5percentOfDailyNeed</th>\n",
              "      <th>MagnesiumAmount</th>\n",
              "      <th>MagnesiumpercentOfDailyNeed</th>\n",
              "      <th>IronAmount</th>\n",
              "      <th>IronpercentOfDailyNeed</th>\n",
              "      <th>VitaminKAmount</th>\n",
              "      <th>VitaminKpercentOfDailyNeed</th>\n",
              "      <th>CopperAmount</th>\n",
              "      <th>CopperpercentOfDailyNeed</th>\n",
              "      <th>VitaminAAmount</th>\n",
              "      <th>VitaminApercentOfDailyNeed</th>\n",
              "      <th>VitaminB12Amount</th>\n",
              "      <th>VitaminB12percentOfDailyNeed</th>\n",
              "      <th>VitaminDAmount</th>\n",
              "      <th>VitaminDpercentOfDailyNeed</th>\n",
              "      <th>ZincAmount</th>\n",
              "      <th>ZincpercentOfDailyNeed</th>\n",
              "      <th>VitaminEAmount</th>\n",
              "      <th>VitaminEpercentOfDailyNeed</th>\n",
              "      <th>VitaminB3Amount</th>\n",
              "      <th>VitaminB3percentOfDailyNeed</th>\n",
              "      <th>VitaminB1Amount</th>\n",
              "      <th>VitaminB1percentOfDailyNeed</th>\n",
              "      <th>CalciumAmount</th>\n",
              "      <th>CalciumpercentOfDailyNeed</th>\n",
              "      <th>AlcoholAmount</th>\n",
              "      <th>AlcoholpercentOfDailyNeed</th>\n",
              "      <th>CaffeineAmount</th>\n",
              "      <th>CaffeinepercentOfDailyNeed</th>\n",
              "    </tr>\n",
              "  </thead>\n",
              "  <tbody>\n",
              "    <tr>\n",
              "      <th>0</th>\n",
              "      <td>True</td>\n",
              "      <td>True</td>\n",
              "      <td>True</td>\n",
              "      <td>False</td>\n",
              "      <td>1.0</td>\n",
              "      <td>3</td>\n",
              "      <td>633998</td>\n",
              "      <td>Banana Blueberry Pancakes</td>\n",
              "      <td>55.79</td>\n",
              "      <td>45</td>\n",
              "      <td>8</td>\n",
              "      <td>https://www.foodista.com/recipe/K65SYB3F/banan...</td>\n",
              "      <td>175.67</td>\n",
              "      <td>8.78</td>\n",
              "      <td>9.87</td>\n",
              "      <td>15.18</td>\n",
              "      <td>7.36</td>\n",
              "      <td>45.98</td>\n",
              "      <td>19.46</td>\n",
              "      <td>6.49</td>\n",
              "      <td>15.66</td>\n",
              "      <td>5.69</td>\n",
              "      <td>9.49</td>\n",
              "      <td>10.55</td>\n",
              "      <td>81.84</td>\n",
              "      <td>27.28</td>\n",
              "      <td>43.51</td>\n",
              "      <td>1.89</td>\n",
              "      <td>4.25</td>\n",
              "      <td>8.51</td>\n",
              "      <td>3.81</td>\n",
              "      <td>15.22</td>\n",
              "      <td>0.26</td>\n",
              "      <td>13.19</td>\n",
              "      <td>0.25</td>\n",
              "      <td>12.51</td>\n",
              "      <td>7.37</td>\n",
              "      <td>10.52</td>\n",
              "      <td>318.24</td>\n",
              "      <td>9.09</td>\n",
              "      <td>0.15</td>\n",
              "      <td>8.90</td>\n",
              "      <td>6.93</td>\n",
              "      <td>8.40</td>\n",
              "      <td>58.86</td>\n",
              "      <td>5.89</td>\n",
              "      <td>23.26</td>\n",
              "      <td>5.81</td>\n",
              "      <td>0.56</td>\n",
              "      <td>5.58</td>\n",
              "      <td>19.91</td>\n",
              "      <td>4.98</td>\n",
              "      <td>0.75</td>\n",
              "      <td>4.14</td>\n",
              "      <td>4.00</td>\n",
              "      <td>3.81</td>\n",
              "      <td>0.08</td>\n",
              "      <td>3.8</td>\n",
              "      <td>166.92</td>\n",
              "      <td>3.34</td>\n",
              "      <td>0.20</td>\n",
              "      <td>3.26</td>\n",
              "      <td>0.44</td>\n",
              "      <td>2.93</td>\n",
              "      <td>0.41</td>\n",
              "      <td>2.71</td>\n",
              "      <td>0.40</td>\n",
              "      <td>2.70</td>\n",
              "      <td>0.49</td>\n",
              "      <td>2.44</td>\n",
              "      <td>0.03</td>\n",
              "      <td>2.26</td>\n",
              "      <td>18.11</td>\n",
              "      <td>1.81</td>\n",
              "      <td>NaN</td>\n",
              "      <td>NaN</td>\n",
              "      <td>NaN</td>\n",
              "      <td>NaN</td>\n",
              "    </tr>\n",
              "    <tr>\n",
              "      <th>1</th>\n",
              "      <td>True</td>\n",
              "      <td>True</td>\n",
              "      <td>False</td>\n",
              "      <td>False</td>\n",
              "      <td>0.0</td>\n",
              "      <td>1</td>\n",
              "      <td>634426</td>\n",
              "      <td>Basil and Orange Confit Compound Butter</td>\n",
              "      <td>15.07</td>\n",
              "      <td>45</td>\n",
              "      <td>10</td>\n",
              "      <td>https://www.foodista.com/recipe/ZCDX55YK/basil...</td>\n",
              "      <td>85.52</td>\n",
              "      <td>4.28</td>\n",
              "      <td>9.60</td>\n",
              "      <td>14.77</td>\n",
              "      <td>5.88</td>\n",
              "      <td>36.75</td>\n",
              "      <td>0.17</td>\n",
              "      <td>0.06</td>\n",
              "      <td>0.10</td>\n",
              "      <td>0.04</td>\n",
              "      <td>0.01</td>\n",
              "      <td>0.01</td>\n",
              "      <td>24.38</td>\n",
              "      <td>8.13</td>\n",
              "      <td>20.67</td>\n",
              "      <td>0.90</td>\n",
              "      <td>0.12</td>\n",
              "      <td>0.24</td>\n",
              "      <td>NaN</td>\n",
              "      <td>NaN</td>\n",
              "      <td>NaN</td>\n",
              "      <td>NaN</td>\n",
              "      <td>NaN</td>\n",
              "      <td>NaN</td>\n",
              "      <td>NaN</td>\n",
              "      <td>NaN</td>\n",
              "      <td>NaN</td>\n",
              "      <td>NaN</td>\n",
              "      <td>NaN</td>\n",
              "      <td>NaN</td>\n",
              "      <td>0.89</td>\n",
              "      <td>1.08</td>\n",
              "      <td>NaN</td>\n",
              "      <td>NaN</td>\n",
              "      <td>NaN</td>\n",
              "      <td>NaN</td>\n",
              "      <td>NaN</td>\n",
              "      <td>NaN</td>\n",
              "      <td>NaN</td>\n",
              "      <td>NaN</td>\n",
              "      <td>NaN</td>\n",
              "      <td>NaN</td>\n",
              "      <td>2.69</td>\n",
              "      <td>2.57</td>\n",
              "      <td>NaN</td>\n",
              "      <td>NaN</td>\n",
              "      <td>307.00</td>\n",
              "      <td>6.14</td>\n",
              "      <td>NaN</td>\n",
              "      <td>NaN</td>\n",
              "      <td>0.17</td>\n",
              "      <td>1.13</td>\n",
              "      <td>NaN</td>\n",
              "      <td>NaN</td>\n",
              "      <td>0.33</td>\n",
              "      <td>2.17</td>\n",
              "      <td>NaN</td>\n",
              "      <td>NaN</td>\n",
              "      <td>NaN</td>\n",
              "      <td>NaN</td>\n",
              "      <td>NaN</td>\n",
              "      <td>NaN</td>\n",
              "      <td>NaN</td>\n",
              "      <td>NaN</td>\n",
              "      <td>NaN</td>\n",
              "      <td>NaN</td>\n",
              "    </tr>\n",
              "    <tr>\n",
              "      <th>2</th>\n",
              "      <td>False</td>\n",
              "      <td>False</td>\n",
              "      <td>False</td>\n",
              "      <td>False</td>\n",
              "      <td>3.0</td>\n",
              "      <td>1</td>\n",
              "      <td>635085</td>\n",
              "      <td>Black Bottom Banana Bars</td>\n",
              "      <td>78.85</td>\n",
              "      <td>45</td>\n",
              "      <td>5</td>\n",
              "      <td>https://www.foodista.com/recipe/HPYY5YMF/black...</td>\n",
              "      <td>700.30</td>\n",
              "      <td>35.01</td>\n",
              "      <td>28.77</td>\n",
              "      <td>44.26</td>\n",
              "      <td>17.60</td>\n",
              "      <td>110.00</td>\n",
              "      <td>106.55</td>\n",
              "      <td>35.52</td>\n",
              "      <td>101.95</td>\n",
              "      <td>37.07</td>\n",
              "      <td>68.26</td>\n",
              "      <td>75.85</td>\n",
              "      <td>86.94</td>\n",
              "      <td>28.98</td>\n",
              "      <td>653.78</td>\n",
              "      <td>28.43</td>\n",
              "      <td>8.23</td>\n",
              "      <td>16.45</td>\n",
              "      <td>4.60</td>\n",
              "      <td>18.40</td>\n",
              "      <td>0.20</td>\n",
              "      <td>10.13</td>\n",
              "      <td>0.55</td>\n",
              "      <td>27.61</td>\n",
              "      <td>16.95</td>\n",
              "      <td>24.21</td>\n",
              "      <td>367.18</td>\n",
              "      <td>10.49</td>\n",
              "      <td>0.28</td>\n",
              "      <td>16.75</td>\n",
              "      <td>4.13</td>\n",
              "      <td>5.01</td>\n",
              "      <td>159.83</td>\n",
              "      <td>15.98</td>\n",
              "      <td>83.82</td>\n",
              "      <td>20.95</td>\n",
              "      <td>0.49</td>\n",
              "      <td>4.86</td>\n",
              "      <td>43.70</td>\n",
              "      <td>10.93</td>\n",
              "      <td>3.14</td>\n",
              "      <td>17.46</td>\n",
              "      <td>2.06</td>\n",
              "      <td>1.96</td>\n",
              "      <td>0.26</td>\n",
              "      <td>13.1</td>\n",
              "      <td>724.23</td>\n",
              "      <td>14.48</td>\n",
              "      <td>0.12</td>\n",
              "      <td>1.95</td>\n",
              "      <td>0.52</td>\n",
              "      <td>3.44</td>\n",
              "      <td>0.77</td>\n",
              "      <td>5.12</td>\n",
              "      <td>0.69</td>\n",
              "      <td>4.61</td>\n",
              "      <td>2.63</td>\n",
              "      <td>13.13</td>\n",
              "      <td>0.32</td>\n",
              "      <td>21.09</td>\n",
              "      <td>100.80</td>\n",
              "      <td>10.08</td>\n",
              "      <td>0.28</td>\n",
              "      <td>1.53</td>\n",
              "      <td>9.89</td>\n",
              "      <td>3.3</td>\n",
              "    </tr>\n",
              "  </tbody>\n",
              "</table>\n",
              "</div>"
            ],
            "text/plain": [
              "   vegetarian  glutenFree  ...  CaffeineAmount  CaffeinepercentOfDailyNeed\n",
              "0        True        True  ...             NaN                         NaN\n",
              "1        True        True  ...             NaN                         NaN\n",
              "2       False       False  ...            9.89                         3.3\n",
              "\n",
              "[3 rows x 78 columns]"
            ]
          },
          "metadata": {},
          "execution_count": 9
        }
      ]
    },
    {
      "cell_type": "markdown",
      "metadata": {
        "id": "pmCXqIP74IJe"
      },
      "source": [
        "#### Drop all the columns that are of Boolean type. We won't need them.\n",
        "\n",
        "#### Keep the new dataframe stored in the same variable as the first one."
      ]
    },
    {
      "cell_type": "code",
      "metadata": {
        "colab": {
          "base_uri": "https://localhost:8080/"
        },
        "id": "IJxDTVZQ4IJf",
        "outputId": "d4996458-4400-41f9-a2e2-aade0507b376"
      },
      "source": [
        "df = df.select_dtypes(exclude=['bool'])\n",
        "df.info()"
      ],
      "execution_count": 11,
      "outputs": [
        {
          "output_type": "stream",
          "name": "stdout",
          "text": [
            "<class 'pandas.core.frame.DataFrame'>\n",
            "Int64Index: 150 entries, 0 to 149\n",
            "Data columns (total 74 columns):\n",
            " #   Column                              Non-Null Count  Dtype  \n",
            "---  ------                              --------------  -----  \n",
            " 0   healthScore                         150 non-null    float64\n",
            " 1   aggregateLikes                      150 non-null    int64  \n",
            " 2   id                                  150 non-null    int64  \n",
            " 3   title                               150 non-null    object \n",
            " 4   pricePerServing                     150 non-null    float64\n",
            " 5   readyInMinutes                      150 non-null    int64  \n",
            " 6   servings                            150 non-null    int64  \n",
            " 7   sourceUrl                           150 non-null    object \n",
            " 8   CaloriesAmount                      150 non-null    float64\n",
            " 9   CaloriespercentOfDailyNeed          150 non-null    float64\n",
            " 10  FatAmount                           150 non-null    float64\n",
            " 11  FatpercentOfDailyNeed               150 non-null    float64\n",
            " 12  SaturatedFatAmount                  150 non-null    float64\n",
            " 13  SaturatedFatpercentOfDailyNeed      150 non-null    float64\n",
            " 14  CarbohydratesAmount                 150 non-null    float64\n",
            " 15  CarbohydratespercentOfDailyNeed     150 non-null    float64\n",
            " 16  NetCarbohydratesAmount              150 non-null    float64\n",
            " 17  NetCarbohydratespercentOfDailyNeed  150 non-null    float64\n",
            " 18  SugarAmount                         150 non-null    float64\n",
            " 19  SugarpercentOfDailyNeed             150 non-null    float64\n",
            " 20  CholesterolAmount                   150 non-null    float64\n",
            " 21  CholesterolpercentOfDailyNeed       150 non-null    float64\n",
            " 22  SodiumAmount                        150 non-null    float64\n",
            " 23  SodiumpercentOfDailyNeed            150 non-null    float64\n",
            " 24  ProteinAmount                       150 non-null    float64\n",
            " 25  ProteinpercentOfDailyNeed           150 non-null    float64\n",
            " 26  FiberAmount                         142 non-null    float64\n",
            " 27  FiberpercentOfDailyNeed             142 non-null    float64\n",
            " 28  VitaminB6Amount                     140 non-null    float64\n",
            " 29  VitaminB6percentOfDailyNeed         140 non-null    float64\n",
            " 30  ManganeseAmount                     146 non-null    float64\n",
            " 31  ManganesepercentOfDailyNeed         146 non-null    float64\n",
            " 32  SeleniumAmount                      134 non-null    float64\n",
            " 33  SeleniumpercentOfDailyNeed          134 non-null    float64\n",
            " 34  PotassiumAmount                     143 non-null    float64\n",
            " 35  PotassiumpercentOfDailyNeed         143 non-null    float64\n",
            " 36  VitaminB2Amount                     146 non-null    float64\n",
            " 37  VitaminB2percentOfDailyNeed         146 non-null    float64\n",
            " 38  VitaminCAmount                      119 non-null    float64\n",
            " 39  VitaminCpercentOfDailyNeed          119 non-null    float64\n",
            " 40  PhosphorusAmount                    147 non-null    float64\n",
            " 41  PhosphoruspercentOfDailyNeed        147 non-null    float64\n",
            " 42  FolateAmount                        144 non-null    float64\n",
            " 43  FolatepercentOfDailyNeed            144 non-null    float64\n",
            " 44  VitaminB5Amount                     136 non-null    float64\n",
            " 45  VitaminB5percentOfDailyNeed         136 non-null    float64\n",
            " 46  MagnesiumAmount                     142 non-null    float64\n",
            " 47  MagnesiumpercentOfDailyNeed         142 non-null    float64\n",
            " 48  IronAmount                          147 non-null    float64\n",
            " 49  IronpercentOfDailyNeed              147 non-null    float64\n",
            " 50  VitaminKAmount                      138 non-null    float64\n",
            " 51  VitaminKpercentOfDailyNeed          138 non-null    float64\n",
            " 52  CopperAmount                        144 non-null    float64\n",
            " 53  CopperpercentOfDailyNeed            144 non-null    float64\n",
            " 54  VitaminAAmount                      137 non-null    float64\n",
            " 55  VitaminApercentOfDailyNeed          137 non-null    float64\n",
            " 56  VitaminB12Amount                    93 non-null     float64\n",
            " 57  VitaminB12percentOfDailyNeed        93 non-null     float64\n",
            " 58  VitaminDAmount                      75 non-null     float64\n",
            " 59  VitaminDpercentOfDailyNeed          75 non-null     float64\n",
            " 60  ZincAmount                          139 non-null    float64\n",
            " 61  ZincpercentOfDailyNeed              139 non-null    float64\n",
            " 62  VitaminEAmount                      138 non-null    float64\n",
            " 63  VitaminEpercentOfDailyNeed          138 non-null    float64\n",
            " 64  VitaminB3Amount                     139 non-null    float64\n",
            " 65  VitaminB3percentOfDailyNeed         139 non-null    float64\n",
            " 66  VitaminB1Amount                     143 non-null    float64\n",
            " 67  VitaminB1percentOfDailyNeed         143 non-null    float64\n",
            " 68  CalciumAmount                       142 non-null    float64\n",
            " 69  CalciumpercentOfDailyNeed           142 non-null    float64\n",
            " 70  AlcoholAmount                       21 non-null     float64\n",
            " 71  AlcoholpercentOfDailyNeed           21 non-null     float64\n",
            " 72  CaffeineAmount                      9 non-null      float64\n",
            " 73  CaffeinepercentOfDailyNeed          9 non-null      float64\n",
            "dtypes: float64(68), int64(4), object(2)\n",
            "memory usage: 87.9+ KB\n"
          ]
        }
      ]
    },
    {
      "cell_type": "markdown",
      "metadata": {
        "id": "un5KI45l4IJf"
      },
      "source": [
        "#### In some of the columns, there are less than 100 values available. Please drop them, too. We will learn how to deal with non-available values next time.\n",
        "\n",
        "#### Keep the new dataframe stored in the same variable as the first one."
      ]
    },
    {
      "cell_type": "code",
      "metadata": {
        "colab": {
          "base_uri": "https://localhost:8080/"
        },
        "id": "LvOQG2jL4IJg",
        "outputId": "99b41413-7bc1-4589-84c1-041c174c9110"
      },
      "source": [
        "collist = [item for item in df.columns if df[item].value_counts().sum() < 100 ]\n",
        "df.drop(columns = collist,inplace=True)\n",
        "df.info()"
      ],
      "execution_count": 30,
      "outputs": [
        {
          "output_type": "stream",
          "name": "stdout",
          "text": [
            "<class 'pandas.core.frame.DataFrame'>\n",
            "Int64Index: 150 entries, 0 to 149\n",
            "Data columns (total 66 columns):\n",
            " #   Column                              Non-Null Count  Dtype  \n",
            "---  ------                              --------------  -----  \n",
            " 0   healthScore                         150 non-null    float64\n",
            " 1   aggregateLikes                      150 non-null    int64  \n",
            " 2   id                                  150 non-null    int64  \n",
            " 3   title                               150 non-null    object \n",
            " 4   pricePerServing                     150 non-null    float64\n",
            " 5   readyInMinutes                      150 non-null    int64  \n",
            " 6   servings                            150 non-null    int64  \n",
            " 7   sourceUrl                           150 non-null    object \n",
            " 8   CaloriesAmount                      150 non-null    float64\n",
            " 9   CaloriespercentOfDailyNeed          150 non-null    float64\n",
            " 10  FatAmount                           150 non-null    float64\n",
            " 11  FatpercentOfDailyNeed               150 non-null    float64\n",
            " 12  SaturatedFatAmount                  150 non-null    float64\n",
            " 13  SaturatedFatpercentOfDailyNeed      150 non-null    float64\n",
            " 14  CarbohydratesAmount                 150 non-null    float64\n",
            " 15  CarbohydratespercentOfDailyNeed     150 non-null    float64\n",
            " 16  NetCarbohydratesAmount              150 non-null    float64\n",
            " 17  NetCarbohydratespercentOfDailyNeed  150 non-null    float64\n",
            " 18  SugarAmount                         150 non-null    float64\n",
            " 19  SugarpercentOfDailyNeed             150 non-null    float64\n",
            " 20  CholesterolAmount                   150 non-null    float64\n",
            " 21  CholesterolpercentOfDailyNeed       150 non-null    float64\n",
            " 22  SodiumAmount                        150 non-null    float64\n",
            " 23  SodiumpercentOfDailyNeed            150 non-null    float64\n",
            " 24  ProteinAmount                       150 non-null    float64\n",
            " 25  ProteinpercentOfDailyNeed           150 non-null    float64\n",
            " 26  FiberAmount                         142 non-null    float64\n",
            " 27  FiberpercentOfDailyNeed             142 non-null    float64\n",
            " 28  VitaminB6Amount                     140 non-null    float64\n",
            " 29  VitaminB6percentOfDailyNeed         140 non-null    float64\n",
            " 30  ManganeseAmount                     146 non-null    float64\n",
            " 31  ManganesepercentOfDailyNeed         146 non-null    float64\n",
            " 32  SeleniumAmount                      134 non-null    float64\n",
            " 33  SeleniumpercentOfDailyNeed          134 non-null    float64\n",
            " 34  PotassiumAmount                     143 non-null    float64\n",
            " 35  PotassiumpercentOfDailyNeed         143 non-null    float64\n",
            " 36  VitaminB2Amount                     146 non-null    float64\n",
            " 37  VitaminB2percentOfDailyNeed         146 non-null    float64\n",
            " 38  VitaminCAmount                      119 non-null    float64\n",
            " 39  VitaminCpercentOfDailyNeed          119 non-null    float64\n",
            " 40  PhosphorusAmount                    147 non-null    float64\n",
            " 41  PhosphoruspercentOfDailyNeed        147 non-null    float64\n",
            " 42  FolateAmount                        144 non-null    float64\n",
            " 43  FolatepercentOfDailyNeed            144 non-null    float64\n",
            " 44  VitaminB5Amount                     136 non-null    float64\n",
            " 45  VitaminB5percentOfDailyNeed         136 non-null    float64\n",
            " 46  MagnesiumAmount                     142 non-null    float64\n",
            " 47  MagnesiumpercentOfDailyNeed         142 non-null    float64\n",
            " 48  IronAmount                          147 non-null    float64\n",
            " 49  IronpercentOfDailyNeed              147 non-null    float64\n",
            " 50  VitaminKAmount                      138 non-null    float64\n",
            " 51  VitaminKpercentOfDailyNeed          138 non-null    float64\n",
            " 52  CopperAmount                        144 non-null    float64\n",
            " 53  CopperpercentOfDailyNeed            144 non-null    float64\n",
            " 54  VitaminAAmount                      137 non-null    float64\n",
            " 55  VitaminApercentOfDailyNeed          137 non-null    float64\n",
            " 56  ZincAmount                          139 non-null    float64\n",
            " 57  ZincpercentOfDailyNeed              139 non-null    float64\n",
            " 58  VitaminEAmount                      138 non-null    float64\n",
            " 59  VitaminEpercentOfDailyNeed          138 non-null    float64\n",
            " 60  VitaminB3Amount                     139 non-null    float64\n",
            " 61  VitaminB3percentOfDailyNeed         139 non-null    float64\n",
            " 62  VitaminB1Amount                     143 non-null    float64\n",
            " 63  VitaminB1percentOfDailyNeed         143 non-null    float64\n",
            " 64  CalciumAmount                       142 non-null    float64\n",
            " 65  CalciumpercentOfDailyNeed           142 non-null    float64\n",
            "dtypes: float64(60), int64(4), object(2)\n",
            "memory usage: 78.5+ KB\n"
          ]
        }
      ]
    },
    {
      "cell_type": "markdown",
      "metadata": {
        "id": "ipUpl1WI4IJh"
      },
      "source": [
        "#### Enough dropping. How big is your DataFrame now?"
      ]
    },
    {
      "cell_type": "code",
      "metadata": {
        "colab": {
          "base_uri": "https://localhost:8080/"
        },
        "id": "kB2nlf4z4IJh",
        "outputId": "d7d726c7-7a72-49f8-f193-0f6b9104c258"
      },
      "source": [
        "df.shape"
      ],
      "execution_count": 31,
      "outputs": [
        {
          "output_type": "execute_result",
          "data": {
            "text/plain": [
              "(150, 66)"
            ]
          },
          "metadata": {},
          "execution_count": 31
        }
      ]
    },
    {
      "cell_type": "markdown",
      "metadata": {
        "id": "Kkkh7coO4IJi"
      },
      "source": [
        "#### Too big. The columns are fine, but we will restrict ourselves to 50 recipes. Please choose any 50 recipes (hint: maybe the first 50? :) ).\n",
        "\n",
        "#### Keep the new dataframe stored in the same variable as the first one."
      ]
    },
    {
      "cell_type": "code",
      "metadata": {
        "colab": {
          "base_uri": "https://localhost:8080/"
        },
        "id": "1xgd-qmi4IJi",
        "outputId": "1bd96c72-9efd-4aa2-d532-57b5ee41a029"
      },
      "source": [
        "df=df[:50]\n",
        "df.shape"
      ],
      "execution_count": 32,
      "outputs": [
        {
          "output_type": "execute_result",
          "data": {
            "text/plain": [
              "(50, 66)"
            ]
          },
          "metadata": {},
          "execution_count": 32
        }
      ]
    },
    {
      "cell_type": "markdown",
      "metadata": {
        "id": "F_sK6C6O4IJi"
      },
      "source": [
        "#### Display only the columns referring to Fiber."
      ]
    },
    {
      "cell_type": "code",
      "metadata": {
        "colab": {
          "base_uri": "https://localhost:8080/",
          "height": 1000
        },
        "id": "9uz5ppSY4IJj",
        "outputId": "25162e8c-3f75-4c70-ce5d-048451239f8b"
      },
      "source": [
        "df.loc[:, df.columns.str.startswith('Fiber')]"
      ],
      "execution_count": 37,
      "outputs": [
        {
          "output_type": "execute_result",
          "data": {
            "text/html": [
              "<div>\n",
              "<style scoped>\n",
              "    .dataframe tbody tr th:only-of-type {\n",
              "        vertical-align: middle;\n",
              "    }\n",
              "\n",
              "    .dataframe tbody tr th {\n",
              "        vertical-align: top;\n",
              "    }\n",
              "\n",
              "    .dataframe thead th {\n",
              "        text-align: right;\n",
              "    }\n",
              "</style>\n",
              "<table border=\"1\" class=\"dataframe\">\n",
              "  <thead>\n",
              "    <tr style=\"text-align: right;\">\n",
              "      <th></th>\n",
              "      <th>FiberAmount</th>\n",
              "      <th>FiberpercentOfDailyNeed</th>\n",
              "    </tr>\n",
              "  </thead>\n",
              "  <tbody>\n",
              "    <tr>\n",
              "      <th>0</th>\n",
              "      <td>3.81</td>\n",
              "      <td>15.22</td>\n",
              "    </tr>\n",
              "    <tr>\n",
              "      <th>1</th>\n",
              "      <td>NaN</td>\n",
              "      <td>NaN</td>\n",
              "    </tr>\n",
              "    <tr>\n",
              "      <th>2</th>\n",
              "      <td>4.60</td>\n",
              "      <td>18.40</td>\n",
              "    </tr>\n",
              "    <tr>\n",
              "      <th>3</th>\n",
              "      <td>3.45</td>\n",
              "      <td>13.81</td>\n",
              "    </tr>\n",
              "    <tr>\n",
              "      <th>4</th>\n",
              "      <td>2.41</td>\n",
              "      <td>9.64</td>\n",
              "    </tr>\n",
              "    <tr>\n",
              "      <th>5</th>\n",
              "      <td>2.95</td>\n",
              "      <td>11.81</td>\n",
              "    </tr>\n",
              "    <tr>\n",
              "      <th>6</th>\n",
              "      <td>1.98</td>\n",
              "      <td>7.94</td>\n",
              "    </tr>\n",
              "    <tr>\n",
              "      <th>7</th>\n",
              "      <td>1.56</td>\n",
              "      <td>6.24</td>\n",
              "    </tr>\n",
              "    <tr>\n",
              "      <th>8</th>\n",
              "      <td>1.57</td>\n",
              "      <td>6.27</td>\n",
              "    </tr>\n",
              "    <tr>\n",
              "      <th>9</th>\n",
              "      <td>27.10</td>\n",
              "      <td>108.42</td>\n",
              "    </tr>\n",
              "    <tr>\n",
              "      <th>10</th>\n",
              "      <td>11.57</td>\n",
              "      <td>46.28</td>\n",
              "    </tr>\n",
              "    <tr>\n",
              "      <th>11</th>\n",
              "      <td>1.54</td>\n",
              "      <td>6.17</td>\n",
              "    </tr>\n",
              "    <tr>\n",
              "      <th>12</th>\n",
              "      <td>5.27</td>\n",
              "      <td>21.07</td>\n",
              "    </tr>\n",
              "    <tr>\n",
              "      <th>13</th>\n",
              "      <td>2.57</td>\n",
              "      <td>10.27</td>\n",
              "    </tr>\n",
              "    <tr>\n",
              "      <th>14</th>\n",
              "      <td>6.63</td>\n",
              "      <td>26.53</td>\n",
              "    </tr>\n",
              "    <tr>\n",
              "      <th>15</th>\n",
              "      <td>4.52</td>\n",
              "      <td>18.08</td>\n",
              "    </tr>\n",
              "    <tr>\n",
              "      <th>16</th>\n",
              "      <td>NaN</td>\n",
              "      <td>NaN</td>\n",
              "    </tr>\n",
              "    <tr>\n",
              "      <th>17</th>\n",
              "      <td>3.19</td>\n",
              "      <td>12.78</td>\n",
              "    </tr>\n",
              "    <tr>\n",
              "      <th>18</th>\n",
              "      <td>1.43</td>\n",
              "      <td>5.71</td>\n",
              "    </tr>\n",
              "    <tr>\n",
              "      <th>19</th>\n",
              "      <td>1.78</td>\n",
              "      <td>7.14</td>\n",
              "    </tr>\n",
              "    <tr>\n",
              "      <th>20</th>\n",
              "      <td>2.68</td>\n",
              "      <td>10.71</td>\n",
              "    </tr>\n",
              "    <tr>\n",
              "      <th>21</th>\n",
              "      <td>1.09</td>\n",
              "      <td>4.35</td>\n",
              "    </tr>\n",
              "    <tr>\n",
              "      <th>22</th>\n",
              "      <td>3.51</td>\n",
              "      <td>14.03</td>\n",
              "    </tr>\n",
              "    <tr>\n",
              "      <th>23</th>\n",
              "      <td>0.68</td>\n",
              "      <td>2.71</td>\n",
              "    </tr>\n",
              "    <tr>\n",
              "      <th>24</th>\n",
              "      <td>4.87</td>\n",
              "      <td>19.49</td>\n",
              "    </tr>\n",
              "    <tr>\n",
              "      <th>25</th>\n",
              "      <td>1.72</td>\n",
              "      <td>6.86</td>\n",
              "    </tr>\n",
              "    <tr>\n",
              "      <th>26</th>\n",
              "      <td>5.95</td>\n",
              "      <td>23.82</td>\n",
              "    </tr>\n",
              "    <tr>\n",
              "      <th>27</th>\n",
              "      <td>6.96</td>\n",
              "      <td>27.83</td>\n",
              "    </tr>\n",
              "    <tr>\n",
              "      <th>28</th>\n",
              "      <td>2.20</td>\n",
              "      <td>8.79</td>\n",
              "    </tr>\n",
              "    <tr>\n",
              "      <th>29</th>\n",
              "      <td>3.12</td>\n",
              "      <td>12.48</td>\n",
              "    </tr>\n",
              "    <tr>\n",
              "      <th>30</th>\n",
              "      <td>14.69</td>\n",
              "      <td>58.75</td>\n",
              "    </tr>\n",
              "    <tr>\n",
              "      <th>31</th>\n",
              "      <td>4.34</td>\n",
              "      <td>17.36</td>\n",
              "    </tr>\n",
              "    <tr>\n",
              "      <th>32</th>\n",
              "      <td>1.31</td>\n",
              "      <td>5.23</td>\n",
              "    </tr>\n",
              "    <tr>\n",
              "      <th>33</th>\n",
              "      <td>11.79</td>\n",
              "      <td>47.16</td>\n",
              "    </tr>\n",
              "    <tr>\n",
              "      <th>34</th>\n",
              "      <td>6.38</td>\n",
              "      <td>25.51</td>\n",
              "    </tr>\n",
              "    <tr>\n",
              "      <th>35</th>\n",
              "      <td>1.14</td>\n",
              "      <td>4.57</td>\n",
              "    </tr>\n",
              "    <tr>\n",
              "      <th>36</th>\n",
              "      <td>5.60</td>\n",
              "      <td>22.39</td>\n",
              "    </tr>\n",
              "    <tr>\n",
              "      <th>37</th>\n",
              "      <td>5.79</td>\n",
              "      <td>23.17</td>\n",
              "    </tr>\n",
              "    <tr>\n",
              "      <th>38</th>\n",
              "      <td>4.70</td>\n",
              "      <td>18.81</td>\n",
              "    </tr>\n",
              "    <tr>\n",
              "      <th>39</th>\n",
              "      <td>1.71</td>\n",
              "      <td>6.83</td>\n",
              "    </tr>\n",
              "    <tr>\n",
              "      <th>40</th>\n",
              "      <td>4.56</td>\n",
              "      <td>18.23</td>\n",
              "    </tr>\n",
              "    <tr>\n",
              "      <th>41</th>\n",
              "      <td>0.81</td>\n",
              "      <td>3.23</td>\n",
              "    </tr>\n",
              "    <tr>\n",
              "      <th>42</th>\n",
              "      <td>1.13</td>\n",
              "      <td>4.50</td>\n",
              "    </tr>\n",
              "    <tr>\n",
              "      <th>43</th>\n",
              "      <td>12.40</td>\n",
              "      <td>49.62</td>\n",
              "    </tr>\n",
              "    <tr>\n",
              "      <th>44</th>\n",
              "      <td>0.59</td>\n",
              "      <td>2.36</td>\n",
              "    </tr>\n",
              "    <tr>\n",
              "      <th>45</th>\n",
              "      <td>0.91</td>\n",
              "      <td>3.66</td>\n",
              "    </tr>\n",
              "    <tr>\n",
              "      <th>46</th>\n",
              "      <td>7.48</td>\n",
              "      <td>29.91</td>\n",
              "    </tr>\n",
              "    <tr>\n",
              "      <th>47</th>\n",
              "      <td>1.37</td>\n",
              "      <td>5.48</td>\n",
              "    </tr>\n",
              "    <tr>\n",
              "      <th>48</th>\n",
              "      <td>6.90</td>\n",
              "      <td>27.59</td>\n",
              "    </tr>\n",
              "    <tr>\n",
              "      <th>49</th>\n",
              "      <td>1.92</td>\n",
              "      <td>7.67</td>\n",
              "    </tr>\n",
              "  </tbody>\n",
              "</table>\n",
              "</div>"
            ],
            "text/plain": [
              "    FiberAmount  FiberpercentOfDailyNeed\n",
              "0          3.81                    15.22\n",
              "1           NaN                      NaN\n",
              "2          4.60                    18.40\n",
              "3          3.45                    13.81\n",
              "4          2.41                     9.64\n",
              "5          2.95                    11.81\n",
              "6          1.98                     7.94\n",
              "7          1.56                     6.24\n",
              "8          1.57                     6.27\n",
              "9         27.10                   108.42\n",
              "10        11.57                    46.28\n",
              "11         1.54                     6.17\n",
              "12         5.27                    21.07\n",
              "13         2.57                    10.27\n",
              "14         6.63                    26.53\n",
              "15         4.52                    18.08\n",
              "16          NaN                      NaN\n",
              "17         3.19                    12.78\n",
              "18         1.43                     5.71\n",
              "19         1.78                     7.14\n",
              "20         2.68                    10.71\n",
              "21         1.09                     4.35\n",
              "22         3.51                    14.03\n",
              "23         0.68                     2.71\n",
              "24         4.87                    19.49\n",
              "25         1.72                     6.86\n",
              "26         5.95                    23.82\n",
              "27         6.96                    27.83\n",
              "28         2.20                     8.79\n",
              "29         3.12                    12.48\n",
              "30        14.69                    58.75\n",
              "31         4.34                    17.36\n",
              "32         1.31                     5.23\n",
              "33        11.79                    47.16\n",
              "34         6.38                    25.51\n",
              "35         1.14                     4.57\n",
              "36         5.60                    22.39\n",
              "37         5.79                    23.17\n",
              "38         4.70                    18.81\n",
              "39         1.71                     6.83\n",
              "40         4.56                    18.23\n",
              "41         0.81                     3.23\n",
              "42         1.13                     4.50\n",
              "43        12.40                    49.62\n",
              "44         0.59                     2.36\n",
              "45         0.91                     3.66\n",
              "46         7.48                    29.91\n",
              "47         1.37                     5.48\n",
              "48         6.90                    27.59\n",
              "49         1.92                     7.67"
            ]
          },
          "metadata": {},
          "execution_count": 37
        }
      ]
    },
    {
      "cell_type": "markdown",
      "metadata": {
        "id": "OO-W2_KT4IJj"
      },
      "source": [
        "#### And now the columns referring to Fiber for recipes from rows numbered 10 to 30."
      ]
    },
    {
      "cell_type": "code",
      "metadata": {
        "colab": {
          "base_uri": "https://localhost:8080/",
          "height": 708
        },
        "id": "egN5eHGq4IJk",
        "outputId": "cd10d33f-de28-454a-9f70-ab9a8b0b1e64"
      },
      "source": [
        "df.loc[10:30, df.columns.str.startswith('Fiber')]"
      ],
      "execution_count": 40,
      "outputs": [
        {
          "output_type": "execute_result",
          "data": {
            "text/html": [
              "<div>\n",
              "<style scoped>\n",
              "    .dataframe tbody tr th:only-of-type {\n",
              "        vertical-align: middle;\n",
              "    }\n",
              "\n",
              "    .dataframe tbody tr th {\n",
              "        vertical-align: top;\n",
              "    }\n",
              "\n",
              "    .dataframe thead th {\n",
              "        text-align: right;\n",
              "    }\n",
              "</style>\n",
              "<table border=\"1\" class=\"dataframe\">\n",
              "  <thead>\n",
              "    <tr style=\"text-align: right;\">\n",
              "      <th></th>\n",
              "      <th>FiberAmount</th>\n",
              "      <th>FiberpercentOfDailyNeed</th>\n",
              "    </tr>\n",
              "  </thead>\n",
              "  <tbody>\n",
              "    <tr>\n",
              "      <th>10</th>\n",
              "      <td>11.57</td>\n",
              "      <td>46.28</td>\n",
              "    </tr>\n",
              "    <tr>\n",
              "      <th>11</th>\n",
              "      <td>1.54</td>\n",
              "      <td>6.17</td>\n",
              "    </tr>\n",
              "    <tr>\n",
              "      <th>12</th>\n",
              "      <td>5.27</td>\n",
              "      <td>21.07</td>\n",
              "    </tr>\n",
              "    <tr>\n",
              "      <th>13</th>\n",
              "      <td>2.57</td>\n",
              "      <td>10.27</td>\n",
              "    </tr>\n",
              "    <tr>\n",
              "      <th>14</th>\n",
              "      <td>6.63</td>\n",
              "      <td>26.53</td>\n",
              "    </tr>\n",
              "    <tr>\n",
              "      <th>15</th>\n",
              "      <td>4.52</td>\n",
              "      <td>18.08</td>\n",
              "    </tr>\n",
              "    <tr>\n",
              "      <th>16</th>\n",
              "      <td>NaN</td>\n",
              "      <td>NaN</td>\n",
              "    </tr>\n",
              "    <tr>\n",
              "      <th>17</th>\n",
              "      <td>3.19</td>\n",
              "      <td>12.78</td>\n",
              "    </tr>\n",
              "    <tr>\n",
              "      <th>18</th>\n",
              "      <td>1.43</td>\n",
              "      <td>5.71</td>\n",
              "    </tr>\n",
              "    <tr>\n",
              "      <th>19</th>\n",
              "      <td>1.78</td>\n",
              "      <td>7.14</td>\n",
              "    </tr>\n",
              "    <tr>\n",
              "      <th>20</th>\n",
              "      <td>2.68</td>\n",
              "      <td>10.71</td>\n",
              "    </tr>\n",
              "    <tr>\n",
              "      <th>21</th>\n",
              "      <td>1.09</td>\n",
              "      <td>4.35</td>\n",
              "    </tr>\n",
              "    <tr>\n",
              "      <th>22</th>\n",
              "      <td>3.51</td>\n",
              "      <td>14.03</td>\n",
              "    </tr>\n",
              "    <tr>\n",
              "      <th>23</th>\n",
              "      <td>0.68</td>\n",
              "      <td>2.71</td>\n",
              "    </tr>\n",
              "    <tr>\n",
              "      <th>24</th>\n",
              "      <td>4.87</td>\n",
              "      <td>19.49</td>\n",
              "    </tr>\n",
              "    <tr>\n",
              "      <th>25</th>\n",
              "      <td>1.72</td>\n",
              "      <td>6.86</td>\n",
              "    </tr>\n",
              "    <tr>\n",
              "      <th>26</th>\n",
              "      <td>5.95</td>\n",
              "      <td>23.82</td>\n",
              "    </tr>\n",
              "    <tr>\n",
              "      <th>27</th>\n",
              "      <td>6.96</td>\n",
              "      <td>27.83</td>\n",
              "    </tr>\n",
              "    <tr>\n",
              "      <th>28</th>\n",
              "      <td>2.20</td>\n",
              "      <td>8.79</td>\n",
              "    </tr>\n",
              "    <tr>\n",
              "      <th>29</th>\n",
              "      <td>3.12</td>\n",
              "      <td>12.48</td>\n",
              "    </tr>\n",
              "    <tr>\n",
              "      <th>30</th>\n",
              "      <td>14.69</td>\n",
              "      <td>58.75</td>\n",
              "    </tr>\n",
              "  </tbody>\n",
              "</table>\n",
              "</div>"
            ],
            "text/plain": [
              "    FiberAmount  FiberpercentOfDailyNeed\n",
              "10        11.57                    46.28\n",
              "11         1.54                     6.17\n",
              "12         5.27                    21.07\n",
              "13         2.57                    10.27\n",
              "14         6.63                    26.53\n",
              "15         4.52                    18.08\n",
              "16          NaN                      NaN\n",
              "17         3.19                    12.78\n",
              "18         1.43                     5.71\n",
              "19         1.78                     7.14\n",
              "20         2.68                    10.71\n",
              "21         1.09                     4.35\n",
              "22         3.51                    14.03\n",
              "23         0.68                     2.71\n",
              "24         4.87                    19.49\n",
              "25         1.72                     6.86\n",
              "26         5.95                    23.82\n",
              "27         6.96                    27.83\n",
              "28         2.20                     8.79\n",
              "29         3.12                    12.48\n",
              "30        14.69                    58.75"
            ]
          },
          "metadata": {},
          "execution_count": 40
        }
      ]
    },
    {
      "cell_type": "markdown",
      "metadata": {
        "id": "D_9EiBml4IJk"
      },
      "source": [
        "#### Cool. Now choose your favourite recipe and display only the respective row in the DataFrame."
      ]
    },
    {
      "cell_type": "code",
      "metadata": {
        "colab": {
          "base_uri": "https://localhost:8080/",
          "height": 170
        },
        "id": "LObrrGhb4IJl",
        "outputId": "926287fe-c83f-45a8-c845-c810f81ad690"
      },
      "source": [
        "df.iloc[39:40,:]"
      ],
      "execution_count": 58,
      "outputs": [
        {
          "output_type": "execute_result",
          "data": {
            "text/html": [
              "<div>\n",
              "<style scoped>\n",
              "    .dataframe tbody tr th:only-of-type {\n",
              "        vertical-align: middle;\n",
              "    }\n",
              "\n",
              "    .dataframe tbody tr th {\n",
              "        vertical-align: top;\n",
              "    }\n",
              "\n",
              "    .dataframe thead th {\n",
              "        text-align: right;\n",
              "    }\n",
              "</style>\n",
              "<table border=\"1\" class=\"dataframe\">\n",
              "  <thead>\n",
              "    <tr style=\"text-align: right;\">\n",
              "      <th></th>\n",
              "      <th>healthScore</th>\n",
              "      <th>aggregateLikes</th>\n",
              "      <th>id</th>\n",
              "      <th>title</th>\n",
              "      <th>pricePerServing</th>\n",
              "      <th>readyInMinutes</th>\n",
              "      <th>servings</th>\n",
              "      <th>sourceUrl</th>\n",
              "      <th>CaloriesAmount</th>\n",
              "      <th>CaloriespercentOfDailyNeed</th>\n",
              "      <th>FatAmount</th>\n",
              "      <th>FatpercentOfDailyNeed</th>\n",
              "      <th>SaturatedFatAmount</th>\n",
              "      <th>SaturatedFatpercentOfDailyNeed</th>\n",
              "      <th>CarbohydratesAmount</th>\n",
              "      <th>CarbohydratespercentOfDailyNeed</th>\n",
              "      <th>NetCarbohydratesAmount</th>\n",
              "      <th>NetCarbohydratespercentOfDailyNeed</th>\n",
              "      <th>SugarAmount</th>\n",
              "      <th>SugarpercentOfDailyNeed</th>\n",
              "      <th>CholesterolAmount</th>\n",
              "      <th>CholesterolpercentOfDailyNeed</th>\n",
              "      <th>SodiumAmount</th>\n",
              "      <th>SodiumpercentOfDailyNeed</th>\n",
              "      <th>ProteinAmount</th>\n",
              "      <th>ProteinpercentOfDailyNeed</th>\n",
              "      <th>FiberAmount</th>\n",
              "      <th>FiberpercentOfDailyNeed</th>\n",
              "      <th>VitaminB6Amount</th>\n",
              "      <th>VitaminB6percentOfDailyNeed</th>\n",
              "      <th>ManganeseAmount</th>\n",
              "      <th>ManganesepercentOfDailyNeed</th>\n",
              "      <th>SeleniumAmount</th>\n",
              "      <th>SeleniumpercentOfDailyNeed</th>\n",
              "      <th>PotassiumAmount</th>\n",
              "      <th>PotassiumpercentOfDailyNeed</th>\n",
              "      <th>VitaminB2Amount</th>\n",
              "      <th>VitaminB2percentOfDailyNeed</th>\n",
              "      <th>VitaminCAmount</th>\n",
              "      <th>VitaminCpercentOfDailyNeed</th>\n",
              "      <th>PhosphorusAmount</th>\n",
              "      <th>PhosphoruspercentOfDailyNeed</th>\n",
              "      <th>FolateAmount</th>\n",
              "      <th>FolatepercentOfDailyNeed</th>\n",
              "      <th>VitaminB5Amount</th>\n",
              "      <th>VitaminB5percentOfDailyNeed</th>\n",
              "      <th>MagnesiumAmount</th>\n",
              "      <th>MagnesiumpercentOfDailyNeed</th>\n",
              "      <th>IronAmount</th>\n",
              "      <th>IronpercentOfDailyNeed</th>\n",
              "      <th>VitaminKAmount</th>\n",
              "      <th>VitaminKpercentOfDailyNeed</th>\n",
              "      <th>CopperAmount</th>\n",
              "      <th>CopperpercentOfDailyNeed</th>\n",
              "      <th>VitaminAAmount</th>\n",
              "      <th>VitaminApercentOfDailyNeed</th>\n",
              "      <th>ZincAmount</th>\n",
              "      <th>ZincpercentOfDailyNeed</th>\n",
              "      <th>VitaminEAmount</th>\n",
              "      <th>VitaminEpercentOfDailyNeed</th>\n",
              "      <th>VitaminB3Amount</th>\n",
              "      <th>VitaminB3percentOfDailyNeed</th>\n",
              "      <th>VitaminB1Amount</th>\n",
              "      <th>VitaminB1percentOfDailyNeed</th>\n",
              "      <th>CalciumAmount</th>\n",
              "      <th>CalciumpercentOfDailyNeed</th>\n",
              "    </tr>\n",
              "  </thead>\n",
              "  <tbody>\n",
              "    <tr>\n",
              "      <th>39</th>\n",
              "      <td>7.0</td>\n",
              "      <td>6</td>\n",
              "      <td>1098357</td>\n",
              "      <td>Three Ingredient Frozen Pina Colada</td>\n",
              "      <td>214.6</td>\n",
              "      <td>5</td>\n",
              "      <td>3</td>\n",
              "      <td>https://www.foodista.com/recipe/DFG678TL/three...</td>\n",
              "      <td>320.34</td>\n",
              "      <td>16.02</td>\n",
              "      <td>8.38</td>\n",
              "      <td>12.89</td>\n",
              "      <td>7.15</td>\n",
              "      <td>44.69</td>\n",
              "      <td>39.29</td>\n",
              "      <td>13.1</td>\n",
              "      <td>37.58</td>\n",
              "      <td>13.67</td>\n",
              "      <td>29.69</td>\n",
              "      <td>32.99</td>\n",
              "      <td>0.0</td>\n",
              "      <td>0.0</td>\n",
              "      <td>22.08</td>\n",
              "      <td>0.96</td>\n",
              "      <td>1.93</td>\n",
              "      <td>3.85</td>\n",
              "      <td>1.71</td>\n",
              "      <td>6.83</td>\n",
              "      <td>0.3</td>\n",
              "      <td>15.01</td>\n",
              "      <td>2.05</td>\n",
              "      <td>102.65</td>\n",
              "      <td>NaN</td>\n",
              "      <td>NaN</td>\n",
              "      <td>430.31</td>\n",
              "      <td>12.29</td>\n",
              "      <td>0.07</td>\n",
              "      <td>4.08</td>\n",
              "      <td>59.48</td>\n",
              "      <td>72.09</td>\n",
              "      <td>60.24</td>\n",
              "      <td>6.02</td>\n",
              "      <td>55.52</td>\n",
              "      <td>13.88</td>\n",
              "      <td>0.35</td>\n",
              "      <td>3.46</td>\n",
              "      <td>53.39</td>\n",
              "      <td>13.35</td>\n",
              "      <td>2.13</td>\n",
              "      <td>11.83</td>\n",
              "      <td>1.24</td>\n",
              "      <td>1.18</td>\n",
              "      <td>0.36</td>\n",
              "      <td>18.19</td>\n",
              "      <td>59.93</td>\n",
              "      <td>1.2</td>\n",
              "      <td>0.58</td>\n",
              "      <td>3.86</td>\n",
              "      <td>NaN</td>\n",
              "      <td>NaN</td>\n",
              "      <td>1.05</td>\n",
              "      <td>5.25</td>\n",
              "      <td>0.19</td>\n",
              "      <td>12.66</td>\n",
              "      <td>52.87</td>\n",
              "      <td>5.29</td>\n",
              "    </tr>\n",
              "  </tbody>\n",
              "</table>\n",
              "</div>"
            ],
            "text/plain": [
              "    healthScore  aggregateLikes  ...  CalciumAmount CalciumpercentOfDailyNeed\n",
              "39          7.0               6  ...          52.87                      5.29\n",
              "\n",
              "[1 rows x 66 columns]"
            ]
          },
          "metadata": {},
          "execution_count": 58
        }
      ]
    },
    {
      "cell_type": "markdown",
      "metadata": {
        "id": "H0k1mUcB4IJl"
      },
      "source": [
        "#### And now the columns referring to Fiber FOR your favourite recipe."
      ]
    },
    {
      "cell_type": "code",
      "metadata": {
        "colab": {
          "base_uri": "https://localhost:8080/"
        },
        "id": "qMHdqFQ84IJl",
        "outputId": "dbca4c6c-317a-49f4-9d52-3f6d40b01ba8"
      },
      "source": [
        "df.loc[39, df.columns.str.startswith('Fiber')]"
      ],
      "execution_count": 60,
      "outputs": [
        {
          "output_type": "execute_result",
          "data": {
            "text/plain": [
              "FiberAmount                1.71\n",
              "FiberpercentOfDailyNeed    6.83\n",
              "Name: 39, dtype: object"
            ]
          },
          "metadata": {},
          "execution_count": 60
        }
      ]
    },
    {
      "cell_type": "markdown",
      "metadata": {
        "id": "g5OZKuRq4IJm"
      },
      "source": [
        "#### One last thing. What is the difference between accessing the column \"vegetarian\" in those two ways:\n",
        "- df[\"vegetarian\"]\n",
        "- df[[\"vegetarian\"]]\n",
        "\n",
        "#### (df is the name of your DataFrame).\n",
        "\n",
        "Hint: what are the types of these two?\n",
        "\n",
        "## Please remember that difference."
      ]
    },
    {
      "cell_type": "code",
      "metadata": {
        "colab": {
          "base_uri": "https://localhost:8080/"
        },
        "id": "FPfxEx7kCJOy",
        "outputId": "046c64a8-d3a5-48a1-8321-0fb83cf10ebc"
      },
      "source": [
        "type(df['FiberAmount'])"
      ],
      "execution_count": 62,
      "outputs": [
        {
          "output_type": "execute_result",
          "data": {
            "text/plain": [
              "pandas.core.series.Series"
            ]
          },
          "metadata": {},
          "execution_count": 62
        }
      ]
    },
    {
      "cell_type": "code",
      "metadata": {
        "colab": {
          "base_uri": "https://localhost:8080/"
        },
        "id": "AQumz756CYVi",
        "outputId": "4860d610-b162-4f73-d146-676916c51ecc"
      },
      "source": [
        "type(df[['FiberAmount']])"
      ],
      "execution_count": 63,
      "outputs": [
        {
          "output_type": "execute_result",
          "data": {
            "text/plain": [
              "pandas.core.frame.DataFrame"
            ]
          },
          "metadata": {},
          "execution_count": 63
        }
      ]
    },
    {
      "cell_type": "markdown",
      "metadata": {
        "id": "aiCve-GY4IJm"
      },
      "source": [
        "# Exercises on Numpy"
      ]
    },
    {
      "cell_type": "markdown",
      "metadata": {
        "id": "JBhAeVF54IJm"
      },
      "source": [
        "1. Write a NumPy program to create an array of the integers from 10 to 50"
      ]
    },
    {
      "cell_type": "code",
      "metadata": {
        "colab": {
          "base_uri": "https://localhost:8080/"
        },
        "id": "n0-PluS94IJn",
        "outputId": "84820a66-3ef2-454d-cc26-4cc35efce36b"
      },
      "source": [
        "arrlist=[num for num in range(10,51)]\n",
        "arr =np.array(arrlist)\n",
        "arr"
      ],
      "execution_count": 64,
      "outputs": [
        {
          "output_type": "execute_result",
          "data": {
            "text/plain": [
              "array([10, 11, 12, 13, 14, 15, 16, 17, 18, 19, 20, 21, 22, 23, 24, 25, 26,\n",
              "       27, 28, 29, 30, 31, 32, 33, 34, 35, 36, 37, 38, 39, 40, 41, 42, 43,\n",
              "       44, 45, 46, 47, 48, 49, 50])"
            ]
          },
          "metadata": {},
          "execution_count": 64
        }
      ]
    },
    {
      "cell_type": "markdown",
      "metadata": {
        "id": "891CaJCi4IJn"
      },
      "source": [
        "2. And print the Even and odd integers from the above array"
      ]
    },
    {
      "cell_type": "code",
      "metadata": {
        "colab": {
          "base_uri": "https://localhost:8080/"
        },
        "id": "gOGPJ-J84IJn",
        "outputId": "ec222528-b9a9-46e1-8f81-57d6f5f92fe9"
      },
      "source": [
        "for i in arr:\n",
        "  if i % 2 == 0:\n",
        "    print('Even: ',i)\n",
        "  else:\n",
        "    print('Odd: ', i)"
      ],
      "execution_count": 66,
      "outputs": [
        {
          "output_type": "stream",
          "name": "stdout",
          "text": [
            "Even:  10\n",
            "Odd:  11\n",
            "Even:  12\n",
            "Odd:  13\n",
            "Even:  14\n",
            "Odd:  15\n",
            "Even:  16\n",
            "Odd:  17\n",
            "Even:  18\n",
            "Odd:  19\n",
            "Even:  20\n",
            "Odd:  21\n",
            "Even:  22\n",
            "Odd:  23\n",
            "Even:  24\n",
            "Odd:  25\n",
            "Even:  26\n",
            "Odd:  27\n",
            "Even:  28\n",
            "Odd:  29\n",
            "Even:  30\n",
            "Odd:  31\n",
            "Even:  32\n",
            "Odd:  33\n",
            "Even:  34\n",
            "Odd:  35\n",
            "Even:  36\n",
            "Odd:  37\n",
            "Even:  38\n",
            "Odd:  39\n",
            "Even:  40\n",
            "Odd:  41\n",
            "Even:  42\n",
            "Odd:  43\n",
            "Even:  44\n",
            "Odd:  45\n",
            "Even:  46\n",
            "Odd:  47\n",
            "Even:  48\n",
            "Odd:  49\n",
            "Even:  50\n"
          ]
        }
      ]
    },
    {
      "cell_type": "markdown",
      "metadata": {
        "id": "WAlxVjUu4IJn"
      },
      "source": [
        "3. Write a NumPy program to convert an array to a float type. \n",
        "\n",
        "__Expected output__:\n",
        "\n",
        "Original array\n",
        "[1, 2, 3, 4]\n",
        "\n",
        "Array converted to a float type:\n",
        "[ 1. 2. 3. 4.]"
      ]
    },
    {
      "cell_type": "code",
      "metadata": {
        "colab": {
          "base_uri": "https://localhost:8080/"
        },
        "id": "-MZNU63r4IJn",
        "outputId": "a9f3de82-2099-4de7-d5a4-cbe001daf790"
      },
      "source": [
        "arr=arr.astype(float)\n",
        "arr"
      ],
      "execution_count": 70,
      "outputs": [
        {
          "output_type": "execute_result",
          "data": {
            "text/plain": [
              "array([10., 11., 12., 13., 14., 15., 16., 17., 18., 19., 20., 21., 22.,\n",
              "       23., 24., 25., 26., 27., 28., 29., 30., 31., 32., 33., 34., 35.,\n",
              "       36., 37., 38., 39., 40., 41., 42., 43., 44., 45., 46., 47., 48.,\n",
              "       49., 50.])"
            ]
          },
          "metadata": {},
          "execution_count": 70
        }
      ]
    },
    {
      "cell_type": "markdown",
      "metadata": {
        "id": "19xiYkCQ4IJn"
      },
      "source": [
        "4. Create a 2X2 integer array and print it's values and then print max along the axis 1 of that result.\n"
      ]
    },
    {
      "cell_type": "code",
      "metadata": {
        "colab": {
          "base_uri": "https://localhost:8080/"
        },
        "id": "cQ6v3aKQ4IJo",
        "outputId": "71de9c98-80a7-47da-984c-1865b423e1dc"
      },
      "source": [
        ""
      ],
      "execution_count": 69,
      "outputs": [
        {
          "output_type": "execute_result",
          "data": {
            "text/plain": [
              "array([10., 11., 12., 13., 14., 15., 16., 17., 18., 19., 20., 21., 22.,\n",
              "       23., 24., 25., 26., 27., 28., 29., 30., 31., 32., 33., 34., 35.,\n",
              "       36., 37., 38., 39., 40., 41., 42., 43., 44., 45., 46., 47., 48.,\n",
              "       49., 50.])"
            ]
          },
          "metadata": {},
          "execution_count": 69
        }
      ]
    },
    {
      "cell_type": "markdown",
      "metadata": {
        "id": "YTTEJTTW4IJo"
      },
      "source": [
        "5. Create a 2-d array named ints and perform the following operations\n",
        "\n",
        "- Print second row of ints\n",
        "\n",
        "- Print all elements of ints that are greater than six\n",
        "\n",
        "- Double every element of ints\n",
        "\n",
        "- Replace the third column of ints"
      ]
    },
    {
      "cell_type": "code",
      "metadata": {
        "colab": {
          "base_uri": "https://localhost:8080/"
        },
        "id": "GCPtgQ6U4IJo",
        "outputId": "7fab3dd1-a05a-485b-b85b-139d9427a8d2"
      },
      "source": [
        "ints=np.array([[1,2,3,4,5],[6,7,8,9,10],[11,12,13,14,15],[16,17,18,19,20]])\n",
        "ints"
      ],
      "execution_count": 95,
      "outputs": [
        {
          "output_type": "execute_result",
          "data": {
            "text/plain": [
              "array([[ 1,  2,  3,  4,  5],\n",
              "       [ 6,  7,  8,  9, 10],\n",
              "       [11, 12, 13, 14, 15],\n",
              "       [16, 17, 18, 19, 20]])"
            ]
          },
          "metadata": {},
          "execution_count": 95
        }
      ]
    },
    {
      "cell_type": "code",
      "metadata": {
        "colab": {
          "base_uri": "https://localhost:8080/"
        },
        "id": "rjD6c2KYGWaW",
        "outputId": "56078fc2-818a-4bf0-9731-2fc6a5b82cf1"
      },
      "source": [
        "ints[1:2]"
      ],
      "execution_count": 96,
      "outputs": [
        {
          "output_type": "execute_result",
          "data": {
            "text/plain": [
              "array([[ 6,  7,  8,  9, 10]])"
            ]
          },
          "metadata": {},
          "execution_count": 96
        }
      ]
    },
    {
      "cell_type": "code",
      "metadata": {
        "colab": {
          "base_uri": "https://localhost:8080/"
        },
        "id": "vgBqVQu4GfCq",
        "outputId": "77651b80-c35b-4dc2-a17a-8eb828a7c71d"
      },
      "source": [
        "ints[np.where(ints > 6)]"
      ],
      "execution_count": 97,
      "outputs": [
        {
          "output_type": "execute_result",
          "data": {
            "text/plain": [
              "array([ 7,  8,  9, 10, 11, 12, 13, 14, 15, 16, 17, 18, 19, 20])"
            ]
          },
          "metadata": {},
          "execution_count": 97
        }
      ]
    },
    {
      "cell_type": "code",
      "metadata": {
        "colab": {
          "base_uri": "https://localhost:8080/"
        },
        "id": "YajpjthSG1cj",
        "outputId": "453fa795-c9cd-4a59-89e1-46071130f6ca"
      },
      "source": [
        "ints=ints*2\n",
        "ints"
      ],
      "execution_count": 98,
      "outputs": [
        {
          "output_type": "execute_result",
          "data": {
            "text/plain": [
              "array([[ 2,  4,  6,  8, 10],\n",
              "       [12, 14, 16, 18, 20],\n",
              "       [22, 24, 26, 28, 30],\n",
              "       [32, 34, 36, 38, 40]])"
            ]
          },
          "metadata": {},
          "execution_count": 98
        }
      ]
    },
    {
      "cell_type": "code",
      "metadata": {
        "colab": {
          "base_uri": "https://localhost:8080/"
        },
        "id": "6Ocnrx53HaWh",
        "outputId": "00c9c3ce-8297-469b-8659-8fe9f0ae52a2"
      },
      "source": [
        "ints[2]=[3,4,5,6,7]\n",
        "ints"
      ],
      "execution_count": 99,
      "outputs": [
        {
          "output_type": "execute_result",
          "data": {
            "text/plain": [
              "array([[ 2,  4,  6,  8, 10],\n",
              "       [12, 14, 16, 18, 20],\n",
              "       [ 3,  4,  5,  6,  7],\n",
              "       [32, 34, 36, 38, 40]])"
            ]
          },
          "metadata": {},
          "execution_count": 99
        }
      ]
    },
    {
      "cell_type": "markdown",
      "metadata": {
        "id": "SrPgc81Q4IJo"
      },
      "source": [
        "## #See you!!1"
      ]
    },
    {
      "cell_type": "code",
      "metadata": {
        "id": "V24CKw0c4IJo"
      },
      "source": [
        ""
      ],
      "execution_count": null,
      "outputs": []
    }
  ]
}
