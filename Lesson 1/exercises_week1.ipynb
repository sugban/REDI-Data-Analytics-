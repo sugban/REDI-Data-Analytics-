{
  "nbformat": 4,
  "nbformat_minor": 5,
  "metadata": {
    "kernelspec": {
      "display_name": "Python 3",
      "language": "python",
      "name": "python3"
    },
    "language_info": {
      "codemirror_mode": {
        "name": "ipython",
        "version": 3
      },
      "file_extension": ".py",
      "mimetype": "text/x-python",
      "name": "python",
      "nbconvert_exporter": "python",
      "pygments_lexer": "ipython3",
      "version": "3.7.6"
    },
    "colab": {
      "name": "exercises_week1.ipynb",
      "provenance": [],
      "collapsed_sections": []
    }
  },
  "cells": [
    {
      "cell_type": "markdown",
      "metadata": {
        "id": "H09NDtlq-oXt"
      },
      "source": [
        "# Exercises week 1"
      ],
      "id": "H09NDtlq-oXt"
    },
    {
      "cell_type": "markdown",
      "metadata": {
        "id": "mJ9YwK24-oXx"
      },
      "source": [
        "## Beginner exercises"
      ],
      "id": "mJ9YwK24-oXx"
    },
    {
      "cell_type": "markdown",
      "metadata": {
        "id": "us_q3ld7-oXy"
      },
      "source": [
        "**Ex 1**: In the cell below, write a short text that demonstrates that you can\n",
        "* Create a section with a heading\n",
        "* Write words in bold and italics\n",
        "* Establish a [hyperlink](https://en.wikipedia.org/wiki/Hyperlink)"
      ],
      "id": "us_q3ld7-oXy"
    },
    {
      "cell_type": "markdown",
      "metadata": {
        "id": "JuP9B6P_-oXy"
      },
      "source": [
        "# REDI - Lesson 1\n",
        "\n",
        "**Python learning day one** <br>\n",
        "*In Italics* <br>\n",
        "[in hyperlink](http://localhost:8889/notebooks/exercises_week1.ipynb)"
      ],
      "id": "JuP9B6P_-oXy"
    },
    {
      "cell_type": "markdown",
      "metadata": {
        "id": "9khk2Qxs-oXz"
      },
      "source": [
        "**Ex 2** Calculate the remainder of the division of 18 by 7. "
      ],
      "id": "9khk2Qxs-oXz"
    },
    {
      "cell_type": "code",
      "metadata": {
        "id": "lwklNUB4-oXz",
        "colab": {
          "base_uri": "https://localhost:8080/"
        },
        "outputId": "da5f7ba2-1a59-434a-b05e-ac037a6491a3"
      },
      "source": [
        "result = 18 % 7\n",
        "result"
      ],
      "id": "lwklNUB4-oXz",
      "execution_count": null,
      "outputs": [
        {
          "output_type": "execute_result",
          "data": {
            "text/plain": [
              "4"
            ]
          },
          "metadata": {},
          "execution_count": 1
        }
      ]
    },
    {
      "cell_type": "markdown",
      "metadata": {
        "id": "LR_XLUuL-oX1"
      },
      "source": [
        "**Ex 3** Calcuate 3 to the power of 4; i.e. $3^4$"
      ],
      "id": "LR_XLUuL-oX1"
    },
    {
      "cell_type": "code",
      "metadata": {
        "id": "CD2aKeC8-oX1",
        "colab": {
          "base_uri": "https://localhost:8080/"
        },
        "outputId": "68c34027-d451-48c5-f80c-9b08e3b21fe4"
      },
      "source": [
        "result = 3**4\n",
        "result"
      ],
      "id": "CD2aKeC8-oX1",
      "execution_count": null,
      "outputs": [
        {
          "output_type": "execute_result",
          "data": {
            "text/plain": [
              "81"
            ]
          },
          "metadata": {},
          "execution_count": 2
        }
      ]
    },
    {
      "cell_type": "markdown",
      "metadata": {
        "id": "XsEi312P-oX2"
      },
      "source": [
        "**Ex 4** Calculate the square root of 49"
      ],
      "id": "XsEi312P-oX2"
    },
    {
      "cell_type": "code",
      "metadata": {
        "id": "Y2dEghI2-oX3",
        "colab": {
          "base_uri": "https://localhost:8080/"
        },
        "outputId": "7daf33da-d3aa-4319-ce9c-2963cf31ee6f"
      },
      "source": [
        "num = 49\n",
        "sqroot = num*num\n",
        "sqroot"
      ],
      "id": "Y2dEghI2-oX3",
      "execution_count": null,
      "outputs": [
        {
          "output_type": "execute_result",
          "data": {
            "text/plain": [
              "2401"
            ]
          },
          "metadata": {},
          "execution_count": 3
        }
      ]
    },
    {
      "cell_type": "markdown",
      "metadata": {
        "id": "ytA8hp1o-oX3"
      },
      "source": [
        "**Ex 5** Convert the following string to a float and round it to the nearest 3 digits after the decimal"
      ],
      "id": "ytA8hp1o-oX3"
    },
    {
      "cell_type": "code",
      "metadata": {
        "id": "ltn6Bmrz-oX4",
        "colab": {
          "base_uri": "https://localhost:8080/"
        },
        "outputId": "4b22f01d-d1ac-4fd5-d148-27f8cd9343b4"
      },
      "source": [
        "pi = \"3.14159265\"\n",
        "float(pi)"
      ],
      "id": "ltn6Bmrz-oX4",
      "execution_count": null,
      "outputs": [
        {
          "output_type": "execute_result",
          "data": {
            "text/plain": [
              "3.14159265"
            ]
          },
          "metadata": {},
          "execution_count": 4
        }
      ]
    },
    {
      "cell_type": "markdown",
      "metadata": {
        "id": "d68Q4Ib7-oX4"
      },
      "source": [
        "**Ex 6** **Convert** the variable number=4.9 to an integer"
      ],
      "id": "d68Q4Ib7-oX4"
    },
    {
      "cell_type": "code",
      "metadata": {
        "id": "GY4fa-Mm-oX5",
        "colab": {
          "base_uri": "https://localhost:8080/"
        },
        "outputId": "c7e02a7e-b832-4ccd-910d-6f426f16b62a"
      },
      "source": [
        "num = 4.9\n",
        "num = int(num)\n",
        "num"
      ],
      "id": "GY4fa-Mm-oX5",
      "execution_count": null,
      "outputs": [
        {
          "output_type": "execute_result",
          "data": {
            "text/plain": [
              "4"
            ]
          },
          "metadata": {},
          "execution_count": 5
        }
      ]
    },
    {
      "cell_type": "markdown",
      "metadata": {
        "id": "Z18K9www-oX5"
      },
      "source": [
        "**Ex 7** Now round number=4.9 to the **nearest** integer. What is the difference between the converted number of the previous exercise and this exercise?"
      ],
      "id": "Z18K9www-oX5"
    },
    {
      "cell_type": "code",
      "metadata": {
        "id": "nHh5YwwL-oX5",
        "colab": {
          "base_uri": "https://localhost:8080/"
        },
        "outputId": "d1c9b383-2013-494d-c568-91a6b9d60799"
      },
      "source": [
        "num = 4.9\n",
        "print('The round of 4.9 is: ', round(num))"
      ],
      "id": "nHh5YwwL-oX5",
      "execution_count": null,
      "outputs": [
        {
          "output_type": "stream",
          "name": "stdout",
          "text": [
            "The round of 4.9 is:  5\n"
          ]
        }
      ]
    },
    {
      "cell_type": "markdown",
      "metadata": {
        "id": "iRxi52x0-oX6"
      },
      "source": [
        "**Ex 8** Calculate the length of the following list (i.e. how many names are in the list) and print each of its values separated by a newline. The output of the print statement(s) should look like this: \\\n",
        "\\\n",
        "Miriam \\\n",
        "Tim \\\n",
        "Jing \\\n",
        "..."
      ],
      "id": "iRxi52x0-oX6"
    },
    {
      "cell_type": "code",
      "metadata": {
        "id": "TC3ShMtd-oX6",
        "colab": {
          "base_uri": "https://localhost:8080/"
        },
        "outputId": "82a8e40c-b206-4b4e-e75d-a84d2f819620"
      },
      "source": [
        "names = [\"Miriam\", \"Tim\", \"Jing\", \"Carlos\", \"Ruben\", \"Ashley\"]\n",
        "print(len(names))"
      ],
      "id": "TC3ShMtd-oX6",
      "execution_count": null,
      "outputs": [
        {
          "output_type": "stream",
          "name": "stdout",
          "text": [
            "6\n"
          ]
        }
      ]
    },
    {
      "cell_type": "code",
      "metadata": {
        "id": "FRhe1qaX-oX6",
        "colab": {
          "base_uri": "https://localhost:8080/"
        },
        "outputId": "988ac352-94fa-4b6e-a2f9-79bbfecb108e"
      },
      "source": [
        "for i in names:\n",
        "    print(i)"
      ],
      "id": "FRhe1qaX-oX6",
      "execution_count": null,
      "outputs": [
        {
          "output_type": "stream",
          "name": "stdout",
          "text": [
            "Miriam\n",
            "Tim\n",
            "Jing\n",
            "Carlos\n",
            "Ruben\n",
            "Ashley\n"
          ]
        }
      ]
    },
    {
      "cell_type": "markdown",
      "metadata": {
        "id": "r-EDSzWn-oX6"
      },
      "source": [
        "**Ex 9** Add a list with the following new names to the previous list \\\n",
        "new_names = [\"Pablo\", \"Lise\"]"
      ],
      "id": "r-EDSzWn-oX6"
    },
    {
      "cell_type": "code",
      "metadata": {
        "id": "nIT75Sp8-oX7",
        "colab": {
          "base_uri": "https://localhost:8080/"
        },
        "outputId": "77137a72-49ae-44ae-a6a5-e6f91d3c58c3"
      },
      "source": [
        "new_names = [\"Pablo\", \"Lise\"]\n",
        "for i in new_names:\n",
        "    names.append(i)\n",
        "print(names)"
      ],
      "id": "nIT75Sp8-oX7",
      "execution_count": null,
      "outputs": [
        {
          "output_type": "stream",
          "name": "stdout",
          "text": [
            "['Miriam', 'Tim', 'Jing', 'Carlos', 'Ruben', 'Ashley', 'Pablo', 'Lise']\n"
          ]
        }
      ]
    },
    {
      "cell_type": "markdown",
      "metadata": {
        "id": "0g-Q6fYa-oX8"
      },
      "source": [
        "**Ex 10** Print the second and second to last name of the newly created list. The output should be Tim and Pablo"
      ],
      "id": "0g-Q6fYa-oX8"
    },
    {
      "cell_type": "code",
      "metadata": {
        "id": "Q8-TvSf5-oX8",
        "colab": {
          "base_uri": "https://localhost:8080/"
        },
        "outputId": "ec7758cc-57da-44d8-fab3-968cbceaee21"
      },
      "source": [
        "print(names[1],',',names[-2])"
      ],
      "id": "Q8-TvSf5-oX8",
      "execution_count": null,
      "outputs": [
        {
          "output_type": "stream",
          "name": "stdout",
          "text": [
            "Tim , Pablo\n"
          ]
        }
      ]
    },
    {
      "cell_type": "markdown",
      "metadata": {
        "id": "AxdjF8-Z-oX9"
      },
      "source": [
        "**Ex 11** Calculate the sum and the average of the value in the following list"
      ],
      "id": "AxdjF8-Z-oX9"
    },
    {
      "cell_type": "code",
      "metadata": {
        "id": "YX7GMO5k-oX9"
      },
      "source": [
        "age = [11, 22, 33, 44, 22, 55]"
      ],
      "id": "YX7GMO5k-oX9",
      "execution_count": null,
      "outputs": []
    },
    {
      "cell_type": "code",
      "metadata": {
        "id": "NCxiFOf5-oX9",
        "colab": {
          "base_uri": "https://localhost:8080/"
        },
        "outputId": "93408224-015a-46ff-b4c7-8af1e5c3cc9c"
      },
      "source": [
        "total=sum(age)\n",
        "average=sum(age)/len(age)\n",
        "print('Sum: {} \\nAverage: {}'.format(total,average))"
      ],
      "id": "NCxiFOf5-oX9",
      "execution_count": null,
      "outputs": [
        {
          "output_type": "stream",
          "name": "stdout",
          "text": [
            "Sum: 187 \n",
            "Average: 31.166666666666668\n"
          ]
        }
      ]
    },
    {
      "cell_type": "markdown",
      "metadata": {
        "id": "eDKNw0ZG-oX9"
      },
      "source": [
        "**Ex 12** Sort the age list in an ascending (increasing) order and get the count of the number 22 within the list (i.e; calculate how often the number 22 appears in the age list"
      ],
      "id": "eDKNw0ZG-oX9"
    },
    {
      "cell_type": "code",
      "metadata": {
        "id": "zd2hHuWt-oX-",
        "colab": {
          "base_uri": "https://localhost:8080/"
        },
        "outputId": "460a49d9-529a-4f8b-80f4-93f9d83b7dbc"
      },
      "source": [
        "age.sort()\n",
        "print(age)"
      ],
      "id": "zd2hHuWt-oX-",
      "execution_count": null,
      "outputs": [
        {
          "output_type": "stream",
          "name": "stdout",
          "text": [
            "[11, 22, 22, 33, 44, 55]\n"
          ]
        }
      ]
    },
    {
      "cell_type": "code",
      "metadata": {
        "id": "kQRJw3pEDADP",
        "colab": {
          "base_uri": "https://localhost:8080/"
        },
        "outputId": "3d29e1ea-1d97-4480-c28c-b0d6f1d328ad"
      },
      "source": [
        "for i in age:\n",
        "    if age.count(i) > 1:\n",
        "        print('{} appears in the age list {} times'.format(i, age.count(i)))\n",
        "        break"
      ],
      "id": "kQRJw3pEDADP",
      "execution_count": null,
      "outputs": [
        {
          "output_type": "stream",
          "name": "stdout",
          "text": [
            "22 appears in the age list 2 times\n"
          ]
        }
      ]
    },
    {
      "cell_type": "markdown",
      "metadata": {
        "id": "HmvoFPWM-oX-"
      },
      "source": [
        "**Ex 13** Write a function to calculate the sum of three given numbers, if the values are equal then return three times of their sum."
      ],
      "id": "HmvoFPWM-oX-"
    },
    {
      "cell_type": "markdown",
      "metadata": {
        "id": "bDJJDvk2tVD_"
      },
      "source": [
        "**I am asking user to give three numbers with a space in between**"
      ],
      "id": "bDJJDvk2tVD_"
    },
    {
      "cell_type": "code",
      "metadata": {
        "id": "SPMdBBSq-oX-",
        "colab": {
          "base_uri": "https://localhost:8080/"
        },
        "outputId": "f1de7274-5f1a-498f-aa96-64859101d886"
      },
      "source": [
        "num1,num2,num3 = input('Enter 3 numbers with space: ').split(' ')\n",
        "num1 = int(num1)\n",
        "num2 = int(num2)\n",
        "num3 = int(num3) "
      ],
      "id": "SPMdBBSq-oX-",
      "execution_count": null,
      "outputs": [
        {
          "name": "stdout",
          "output_type": "stream",
          "text": [
            "Enter 3 numbers with space: 4 4 4\n"
          ]
        }
      ]
    },
    {
      "cell_type": "markdown",
      "metadata": {
        "id": "ZGLVg9w5teYI"
      },
      "source": [
        "**Here I have defined a function to do the addition part of the given numbers**"
      ],
      "id": "ZGLVg9w5teYI"
    },
    {
      "cell_type": "code",
      "metadata": {
        "id": "F9jZOXHa-oX-"
      },
      "source": [
        "def calc(n1,n2,n3):\n",
        "  total = n1 + n2 + n3\n",
        "  return total"
      ],
      "id": "F9jZOXHa-oX-",
      "execution_count": null,
      "outputs": []
    },
    {
      "cell_type": "markdown",
      "metadata": {
        "id": "5FfVp-KdtpXu"
      },
      "source": [
        "**Here in the below cell I have used condition to check if these 3 numbers are same or not and if same then the number will be multiplied by 3**"
      ],
      "id": "5FfVp-KdtpXu"
    },
    {
      "cell_type": "code",
      "metadata": {
        "id": "KhvmCM1p-oX_",
        "colab": {
          "base_uri": "https://localhost:8080/"
        },
        "outputId": "203bffff-54b0-4edd-d24c-718d76b2a661"
      },
      "source": [
        "if num1 == num2 and num1 == num3:\n",
        "  mult = num1 * 3\n",
        "  print('The numbers are same and three times of their sum is : {} and the sum of numbers is: {}'.format(mult, calc(num1,num2,num3)))\n",
        "else:\n",
        "  print('Three numbers are not same!')\n",
        "  print('The sum of three given numbers is: ', calc(num1,num2,num3))"
      ],
      "id": "KhvmCM1p-oX_",
      "execution_count": null,
      "outputs": [
        {
          "output_type": "stream",
          "name": "stdout",
          "text": [
            "The numbers are same and three times of their sum is : 12 and the sum of numbers is: 12\n"
          ]
        }
      ]
    },
    {
      "cell_type": "markdown",
      "metadata": {
        "id": "tRcG_zCf-oX_"
      },
      "source": [
        "**Ex 14** Write a function to check if a value is within the following list. The output should look like this:\\\n",
        "Miriam was found in the list\\\n",
        "Peter was not found in the list"
      ],
      "id": "tRcG_zCf-oX_"
    },
    {
      "cell_type": "code",
      "metadata": {
        "id": "9LCfzplz-oX_"
      },
      "source": [
        "names = [\"Miriam\", \"Tim\", \"Jing\", \"Carlos\", \"Ruben\", \"Ashley\"]"
      ],
      "id": "9LCfzplz-oX_",
      "execution_count": null,
      "outputs": []
    },
    {
      "cell_type": "code",
      "metadata": {
        "id": "K1o7ChrnQRB7",
        "colab": {
          "base_uri": "https://localhost:8080/"
        },
        "outputId": "1303ead6-75f3-4863-c686-dcb18dd3e011"
      },
      "source": [
        "name = input('Please enter a name to check if it is in the list or not: ')\n",
        "\n",
        "if any(name in x for x in names):\n",
        "  print('{} was found in the list'.format(name))\n",
        "else:\n",
        "  print('{} was not found in the list'.format(name))"
      ],
      "id": "K1o7ChrnQRB7",
      "execution_count": null,
      "outputs": [
        {
          "output_type": "stream",
          "name": "stdout",
          "text": [
            "Please enter a name to check if it is in the list or not: Ruben\n",
            "Ruben was found in the list\n"
          ]
        }
      ]
    },
    {
      "cell_type": "markdown",
      "metadata": {
        "id": "afKSAWaf-oX_"
      },
      "source": [
        "**Ex 15** Write a function that will accept the base and height of a triangle and compute the area. The area of a triangle is calculate as Area= 0.5 * height * base"
      ],
      "id": "afKSAWaf-oX_"
    },
    {
      "cell_type": "code",
      "metadata": {
        "id": "TNpqgvs5-oYA",
        "colab": {
          "base_uri": "https://localhost:8080/"
        },
        "outputId": "a6762ee2-1590-4768-c9b5-7a9c8ede3ef9"
      },
      "source": [
        "def area(b,h):\n",
        "  return (0.5*b*h)\n",
        "\n",
        "base, height = input('Enter the base and height of a triangle with comma: ').split(',')\n",
        "\n",
        "print('The area of the given triangle with base: {} and height: {} is: {}'.format(base,height,area(int(base),int(height))))"
      ],
      "id": "TNpqgvs5-oYA",
      "execution_count": null,
      "outputs": [
        {
          "output_type": "stream",
          "name": "stdout",
          "text": [
            "Enter the base and height of a triangle with comma: 6,3\n",
            "The area of the given triangle with base: 6 and height: 3 is: 9.0\n"
          ]
        }
      ]
    },
    {
      "cell_type": "markdown",
      "metadata": {
        "id": "BWlJFFio-oYA"
      },
      "source": [
        "## Intermediate exercises"
      ],
      "id": "BWlJFFio-oYA"
    },
    {
      "cell_type": "markdown",
      "metadata": {
        "id": "MXB1F_9_-oYA"
      },
      "source": [
        "**Ex1** Print **only** the strings within the following list. Use the isinstance function to compare the type of a variable against its expected type"
      ],
      "id": "MXB1F_9_-oYA"
    },
    {
      "cell_type": "code",
      "metadata": {
        "id": "Ga-Exh1l-oYA",
        "colab": {
          "base_uri": "https://localhost:8080/"
        },
        "outputId": "ecb633ed-451f-4234-f1dd-ef2dc2f65d68"
      },
      "source": [
        "students = [\"Miriam\", 22, \"Tim\", 25, \"Jing\", 28, \"Carlos\"]\n",
        "\n",
        "for i in students:\n",
        "  if isinstance(i,str)==True:\n",
        "    print(i)"
      ],
      "id": "Ga-Exh1l-oYA",
      "execution_count": null,
      "outputs": [
        {
          "output_type": "stream",
          "name": "stdout",
          "text": [
            "Miriam\n",
            "Tim\n",
            "Jing\n",
            "Carlos\n"
          ]
        }
      ]
    },
    {
      "cell_type": "markdown",
      "metadata": {
        "id": "TKsjElGB-oYA"
      },
      "source": [
        "**Ex 2** For the following two lists, print the student name followed by their age. HINT: use the zip function"
      ],
      "id": "TKsjElGB-oYA"
    },
    {
      "cell_type": "code",
      "metadata": {
        "id": "2VnJFmNU-oYA",
        "colab": {
          "base_uri": "https://localhost:8080/"
        },
        "outputId": "c33761ee-d5c7-4f23-f847-ae4a300ad0fc"
      },
      "source": [
        "names = [\"Miriam\", \"Tim\", \"Jing\", \"Carlos\", \"Ruben\", \"Ashley\"]\n",
        "ages =  [25, 22, 24, 33, 22, 21, 20]\n",
        "\n",
        "print(list(zip(names,ages)))"
      ],
      "id": "2VnJFmNU-oYA",
      "execution_count": null,
      "outputs": [
        {
          "output_type": "stream",
          "name": "stdout",
          "text": [
            "[('Miriam', 25), ('Tim', 22), ('Jing', 24), ('Carlos', 33), ('Ruben', 22), ('Ashley', 21)]\n"
          ]
        }
      ]
    },
    {
      "cell_type": "markdown",
      "metadata": {
        "id": "XIp_JYtq-oYA"
      },
      "source": [
        "**Ex 3** Create a dictionary which keys are the names of the students and the corresponding values are their age. The dictionary should look like this \\\n",
        "{'Miriam': 25, 'Tim': 22, 'Jing': 24, 'Carlos': 33, 'Ruben': 22, 'Ashley': 21}"
      ],
      "id": "XIp_JYtq-oYA"
    },
    {
      "cell_type": "code",
      "metadata": {
        "id": "Xfaa6hQw-oYB",
        "colab": {
          "base_uri": "https://localhost:8080/"
        },
        "outputId": "220167dc-33cb-4e29-9e7e-81b4dd2831c7"
      },
      "source": [
        "student = {names[i]:ages[i] for i in range(len(names))}\n",
        "print(student)"
      ],
      "id": "Xfaa6hQw-oYB",
      "execution_count": null,
      "outputs": [
        {
          "output_type": "stream",
          "name": "stdout",
          "text": [
            "{'Miriam': 25, 'Tim': 22, 'Jing': 24, 'Carlos': 33, 'Ruben': 22, 'Ashley': 21}\n"
          ]
        }
      ]
    },
    {
      "cell_type": "markdown",
      "metadata": {
        "id": "NKJljY6a-oYB"
      },
      "source": [
        "**Ex 4** Create a nested dictionary to assign to each student their age and grade. The output should look like this \\\n",
        "{'Miriam': {'age': 25, 'grade': 12},\n",
        " 'Tim': {'age': 22, 'grade': 12},\n",
        " 'Jing': {'age': 24, 'grade': 12},\n",
        " 'Carlos': {'age': 33, 'grade': 10},\n",
        " 'Ruben': {'age': 22, 'grade': 7},\n",
        " 'Ashley': {'age': 21, 'grade': 10}}"
      ],
      "id": "NKJljY6a-oYB"
    },
    {
      "cell_type": "code",
      "metadata": {
        "id": "lhRIoLpM-oYB",
        "colab": {
          "base_uri": "https://localhost:8080/"
        },
        "outputId": "51a2397a-0acb-40e8-9e0e-67bae9f929b8"
      },
      "source": [
        "grades = [12, 12, 12, 10, 7, 10]\n",
        "\n",
        "student = {names[i]:{'ages':ages[i],'grades':grades[i]} for i in range(len(names))}\n",
        "print(student)\n"
      ],
      "id": "lhRIoLpM-oYB",
      "execution_count": null,
      "outputs": [
        {
          "output_type": "stream",
          "name": "stdout",
          "text": [
            "{'Miriam': {'ages': 25, 'grades': 12}, 'Tim': {'ages': 22, 'grades': 12}, 'Jing': {'ages': 24, 'grades': 12}, 'Carlos': {'ages': 33, 'grades': 10}, 'Ruben': {'ages': 22, 'grades': 7}, 'Ashley': {'ages': 21, 'grades': 10}}\n"
          ]
        }
      ]
    },
    {
      "cell_type": "markdown",
      "metadata": {
        "id": "rwE_exaG-oYB"
      },
      "source": [
        "**Ex 5** Miriam decided to drop out of the class. Remove her entry in the students dictionary."
      ],
      "id": "rwE_exaG-oYB"
    },
    {
      "cell_type": "code",
      "metadata": {
        "id": "gYAS7XgG-oYB",
        "colab": {
          "base_uri": "https://localhost:8080/"
        },
        "outputId": "388e6dda-22e6-4866-e856-c7db3950eb05"
      },
      "source": [
        "del student['Miriam']\n",
        "print(student)"
      ],
      "id": "gYAS7XgG-oYB",
      "execution_count": null,
      "outputs": [
        {
          "output_type": "stream",
          "name": "stdout",
          "text": [
            "{'Tim': {'ages': 22, 'grades': 12}, 'Jing': {'ages': 24, 'grades': 12}, 'Carlos': {'ages': 33, 'grades': 10}, 'Ruben': {'ages': 22, 'grades': 7}, 'Ashley': {'ages': 21, 'grades': 10}}\n"
          ]
        }
      ]
    },
    {
      "cell_type": "markdown",
      "metadata": {
        "id": "4r0exUC0-oYB"
      },
      "source": [
        "**Ex 6** First, generate a sequence of numbers from 1 to 20. Then print **only** the numbers for which the remainder is 0 when being divided by 6. E.g. 12 because 12/6 = 2. The output should be 6, 12 and 18"
      ],
      "id": "4r0exUC0-oYB"
    },
    {
      "cell_type": "code",
      "metadata": {
        "id": "WS6cKWg1dndR"
      },
      "source": [
        "newlist = [x for x in range(1,21) if x%6==0]"
      ],
      "id": "WS6cKWg1dndR",
      "execution_count": null,
      "outputs": []
    },
    {
      "cell_type": "code",
      "metadata": {
        "id": "DMlBuLd1eUAC",
        "colab": {
          "base_uri": "https://localhost:8080/"
        },
        "outputId": "058dcde0-037f-4953-f922-aca478b634da"
      },
      "source": [
        "newlist"
      ],
      "id": "DMlBuLd1eUAC",
      "execution_count": null,
      "outputs": [
        {
          "output_type": "execute_result",
          "data": {
            "text/plain": [
              "[6, 12, 18]"
            ]
          },
          "metadata": {},
          "execution_count": 28
        }
      ]
    },
    {
      "cell_type": "markdown",
      "metadata": {
        "id": "b1DP0nCS-oYB"
      },
      "source": [
        "**Ex 7** Generate  \\\n",
        "\"The holidays will begin on: 25/11/1992\"  \\\n",
        "from the following tuple "
      ],
      "id": "b1DP0nCS-oYB"
    },
    {
      "cell_type": "code",
      "metadata": {
        "id": "3__c8kMn-oYC"
      },
      "source": [
        "date = (25, 11, 1992)"
      ],
      "id": "3__c8kMn-oYC",
      "execution_count": null,
      "outputs": []
    },
    {
      "cell_type": "code",
      "metadata": {
        "id": "Zn-s_iFh-oYC",
        "colab": {
          "base_uri": "https://localhost:8080/",
          "height": 35
        },
        "outputId": "ef0067fc-9ca0-48f9-83d1-6c89e45a568a"
      },
      "source": [
        "'/'.join([str(value) for value in date])"
      ],
      "id": "Zn-s_iFh-oYC",
      "execution_count": null,
      "outputs": [
        {
          "output_type": "execute_result",
          "data": {
            "application/vnd.google.colaboratory.intrinsic+json": {
              "type": "string"
            },
            "text/plain": [
              "'25/11/1992'"
            ]
          },
          "metadata": {},
          "execution_count": 30
        }
      ]
    },
    {
      "cell_type": "markdown",
      "metadata": {
        "id": "dPqryuqs-oYC"
      },
      "source": [
        "**Ex 8** Write a function to find whether a given number is even or odd, print out an appropriate message."
      ],
      "id": "dPqryuqs-oYC"
    },
    {
      "cell_type": "code",
      "metadata": {
        "id": "wXWrE7nH-oYC"
      },
      "source": [
        "def even_odd(num):\n",
        "  if num % 2 == 0:\n",
        "    print(num,' is an even number')\n",
        "  else:\n",
        "    print(num,' is not an even number')"
      ],
      "id": "wXWrE7nH-oYC",
      "execution_count": null,
      "outputs": []
    },
    {
      "cell_type": "code",
      "metadata": {
        "id": "JzuLB_2VkZ8Y",
        "colab": {
          "base_uri": "https://localhost:8080/"
        },
        "outputId": "8cbfed48-9938-4a47-d2bb-a72f68ba081e"
      },
      "source": [
        "num = int(input('Enter a number: '))\n",
        "even_odd(num)"
      ],
      "id": "JzuLB_2VkZ8Y",
      "execution_count": null,
      "outputs": [
        {
          "output_type": "stream",
          "name": "stdout",
          "text": [
            "Enter a number: 8\n",
            "8  is an even number\n"
          ]
        }
      ]
    },
    {
      "cell_type": "markdown",
      "metadata": {
        "id": "ZKsZc9_v-oYC"
      },
      "source": [
        "**Ex 9** Make a program ask for a name, and then write a greeting using that name.\\\n",
        "HINT: use the input function to get the user input (e.g. name=input(\"Write your username\"))\n",
        "\n",
        "\\\n",
        "The output should look similar to this:\\\n",
        "Please type your username Adrian\\\n",
        "Hello Adrian."
      ],
      "id": "ZKsZc9_v-oYC"
    },
    {
      "cell_type": "code",
      "metadata": {
        "id": "RGjHtlHN-oYC",
        "colab": {
          "base_uri": "https://localhost:8080/"
        },
        "outputId": "c47604ab-5765-4f2f-abc8-b1fd9530fdd3"
      },
      "source": [
        "def greeting():\n",
        "  name=input(\"Please type your username: \")\n",
        "  print('Hello ',name)\n",
        "\n",
        "greeting()"
      ],
      "id": "RGjHtlHN-oYC",
      "execution_count": null,
      "outputs": [
        {
          "output_type": "stream",
          "name": "stdout",
          "text": [
            "Please type your username: Sugandh\n",
            "Hello  Sugandh\n"
          ]
        }
      ]
    },
    {
      "cell_type": "markdown",
      "metadata": {
        "id": "HPo1G__I-oYC"
      },
      "source": [
        "**Ex 10** Ask for two numbers and ask what operation to perform on them (+, - , *, /) and display the numbers and the result. Again, use the input function.\\\n",
        "The output should look like this\n",
        "\n",
        "\\\n",
        "Please type two numbers and a mathematical operator to perform on them. All 3 inputs must be separated by a whitespace 1 1.5 +\\\n",
        "The result is: 2.5\n",
        "\n",
        "\n",
        "Please type two numbers and a mathematical operator to perform on them. All 3 inputs must be separated by a whitespace 2 2 *\\\n",
        "The result is: 4.0"
      ],
      "id": "HPo1G__I-oYC"
    },
    {
      "cell_type": "code",
      "metadata": {
        "id": "mH2gy4vc-oYC",
        "colab": {
          "base_uri": "https://localhost:8080/"
        },
        "outputId": "2a5af2a9-f5be-4246-c25d-002f67e0a159"
      },
      "source": [
        "def calc(n1,n2,opt):\n",
        "  if opt == '+':\n",
        "    result = n1+n2\n",
        "  if opt == '-':\n",
        "    result = n1-n2\n",
        "  if opt =='*':\n",
        "    result = n1*n2\n",
        "  if opt == '/':\n",
        "    result = n1/n2\n",
        "  print('The result is: ',result)\n",
        "\n",
        "num1, num2, opr = input('Please type two numbers and a mathematical operator to perform on them, seperated with space: ').split(' ')\n",
        "calc(int(num1),int(num2),opr)"
      ],
      "id": "mH2gy4vc-oYC",
      "execution_count": null,
      "outputs": [
        {
          "output_type": "stream",
          "name": "stdout",
          "text": [
            "Please type two numbers and a mathematical operator to perform on them, seperated with space: 8 2 *\n",
            "The result is:  16\n"
          ]
        }
      ]
    },
    {
      "cell_type": "markdown",
      "metadata": {
        "id": "YTJn8KIF-oYC"
      },
      "source": [
        "**Ex 11** Write a function to calculate the factorial (n!) (e.g. 4! = 4 * 3 * 2 * 1. Perform input control. For example, the input must be a positive integer. Thus, if the input is negative, the function should return an error message. The same applies for inputs with type float or str.\\\n",
        "\n",
        "The output should look like:\\\n",
        "1 = factorial(0)\\\n",
        "1 = factorial(1)\\\n",
        "6 = factorial(3)\\\n",
        "24 = factorial(4)"
      ],
      "id": "YTJn8KIF-oYC"
    },
    {
      "cell_type": "code",
      "metadata": {
        "id": "rR7ZgIeT-oYD",
        "colab": {
          "base_uri": "https://localhost:8080/"
        },
        "outputId": "2efd4a57-9d53-42af-f9d7-fe7c11a3d62b"
      },
      "source": [
        "def factorial(num):\n",
        "    if num == 0:\n",
        "        return 1\n",
        "    else: \n",
        "        return num*factorial(num-1)\n",
        "\n",
        "n = int(input('Enter a number to get it\\'s factorial number: '))\n",
        "print(factorial(n))"
      ],
      "id": "rR7ZgIeT-oYD",
      "execution_count": null,
      "outputs": [
        {
          "output_type": "stream",
          "name": "stdout",
          "text": [
            "Enter a number to get it's factorial number: 7\n",
            "5040\n"
          ]
        }
      ]
    },
    {
      "cell_type": "markdown",
      "metadata": {
        "id": "Y9cHWaUX-oYD"
      },
      "source": [
        "**Ex 12** Write a program (using functions!) that asks the user for a long string containing multiple words. Print back to the user the same string, except with the words in backwards order. For example, say I type the string:\n",
        "\n",
        "  My name is Michele\\\n",
        "Then I would see the string:\n",
        "\n",
        "  Michele is name My\\\n",
        "shown back to me."
      ],
      "id": "Y9cHWaUX-oYD"
    },
    {
      "cell_type": "code",
      "metadata": {
        "id": "dOkqrBTC-oYD",
        "colab": {
          "base_uri": "https://localhost:8080/"
        },
        "outputId": "2b771489-8dd3-47de-db34-17040a97f56b"
      },
      "source": [
        "def words():\n",
        "  value = tuple(input('Enter a sentence please: ').split(' '))\n",
        "  print('Reversed sentence of yours is: ', ' '.join(value[::-1]))\n",
        "\n",
        "words()"
      ],
      "id": "dOkqrBTC-oYD",
      "execution_count": null,
      "outputs": [
        {
          "output_type": "stream",
          "name": "stdout",
          "text": [
            "Enter a sentence please: My name is Sugandh\n",
            "Reversed sentence of yours is:  Sugandh is name My\n"
          ]
        }
      ]
    },
    {
      "cell_type": "markdown",
      "metadata": {
        "id": "DFg2bdXh-oYD"
      },
      "source": [
        "**Ex 13** Write a small function to check if a string is a Palindrome (https://en.wikipedia.org/wiki/Palindrome)\n",
        "\n",
        "The output could look like this:\n",
        "\n",
        "Tenet is a Palindrome\\\n",
        "China is not Palindrome"
      ],
      "id": "DFg2bdXh-oYD"
    },
    {
      "cell_type": "code",
      "metadata": {
        "id": "idrLlQhr-oYD"
      },
      "source": [
        "def palin(value):\n",
        "  rever = value[::-1]\n",
        "  #print(rever)\n",
        "  if value == rever:\n",
        "    print(value, 'is a Palindrome.')\n",
        "  else:\n",
        "    print(value,' is not a Palindrome.')"
      ],
      "id": "idrLlQhr-oYD",
      "execution_count": null,
      "outputs": []
    },
    {
      "cell_type": "code",
      "metadata": {
        "id": "ALhDdZdLnDIF",
        "colab": {
          "base_uri": "https://localhost:8080/"
        },
        "outputId": "02cd3f44-097c-45cf-ef2d-a3b32bda7851"
      },
      "source": [
        "name = input('Enter a string to check for Palindrome: ')\n",
        "palin(name.lower())"
      ],
      "id": "ALhDdZdLnDIF",
      "execution_count": null,
      "outputs": [
        {
          "output_type": "stream",
          "name": "stdout",
          "text": [
            "Enter a string to check for Palindrome: Tenet\n",
            "tenet is a Palindrome.\n"
          ]
        }
      ]
    }
  ]
}